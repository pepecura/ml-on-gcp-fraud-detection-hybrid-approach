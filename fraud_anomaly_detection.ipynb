{
 "cells": [
  {
   "cell_type": "markdown",
   "metadata": {},
   "source": [
    "# **Fraud Detection in Financial Transactions**  \n",
    "In this notebook, we will work on a simulated **transactions** data for **fraud detection**. We will start with the analysis of fraud and create new features, then run machine learning models with **BigQuery ML** and **Vertex Tables** and evaluate the performance. Finally we will run the ML model to score a test dataset and export the predictions to BigQuery to take actions. <br>\n",
    "The public data used in the exercise is downloaded from the Kaggle website: <br>\n",
    "https://www.kaggle.com/ealaxi/paysim1 <br> "
   ]
  },
  {
   "cell_type": "markdown",
   "metadata": {},
   "source": [
    "<br>**Import the required libraries**"
   ]
  },
  {
   "cell_type": "code",
   "execution_count": 1,
   "metadata": {},
   "outputs": [],
   "source": [
    "import numpy as np\n",
    "import pandas as pd\n",
    "import seaborn as sns"
   ]
  },
  {
   "cell_type": "markdown",
   "metadata": {},
   "source": [
    "##  **01. Download data** "
   ]
  },
  {
   "cell_type": "code",
   "execution_count": 2,
   "metadata": {},
   "outputs": [],
   "source": [
    "!pip install --quiet kaggle"
   ]
  },
  {
   "cell_type": "code",
   "execution_count": 3,
   "metadata": {},
   "outputs": [
    {
     "name": "stdout",
     "output_type": "stream",
     "text": [
      "Downloading paysim1.zip to /home/jupyter/predictive_modeling\n",
      " 91%|████████████████████████████████████▏   | 161M/178M [00:02<00:00, 47.7MB/s]\n",
      "100%|████████████████████████████████████████| 178M/178M [00:02<00:00, 76.0MB/s]\n"
     ]
    }
   ],
   "source": [
    "!kaggle datasets download -d ealaxi/paysim1"
   ]
  },
  {
   "cell_type": "markdown",
   "metadata": {},
   "source": [
    "**NOTE:** If you get \"kaggle.json file not found error\", then download **the json file** first from kaggle homepage www.kaggle.com -> Your Account -> **Create New API token** and copy that file to your **[user-home]/.kaggle** folder (eg. /home/jupyter/.kaggle) and rerun. "
   ]
  },
  {
   "cell_type": "code",
   "execution_count": 4,
   "metadata": {},
   "outputs": [
    {
     "name": "stdout",
     "output_type": "stream",
     "text": [
      "Archive:  paysim1.zip\n",
      "  inflating: PS_20174392719_1491204439457_log.csv  \n"
     ]
    }
   ],
   "source": [
    "!unzip paysim1.zip "
   ]
  },
  {
   "cell_type": "markdown",
   "metadata": {},
   "source": [
    "##  **02. Load data** "
   ]
  },
  {
   "cell_type": "code",
   "execution_count": 11,
   "metadata": {},
   "outputs": [
    {
     "name": "stdout",
     "output_type": "stream",
     "text": [
      "bonibon\n"
     ]
    }
   ],
   "source": [
    "# check the project id.\n",
    "PROJECT    = !gcloud config get-value project\n",
    "PROJECT_ID = PROJECT[0]\n",
    "print(PROJECT_ID)"
   ]
  },
  {
   "cell_type": "code",
   "execution_count": 72,
   "metadata": {},
   "outputs": [],
   "source": [
    "# create a bigquery dataset called \"fraud_demo\" using bq mk command in \"europe-west4\" region. \n",
    "!bq --location=europe-west4 mk --dataset fraud_demo"
   ]
  },
  {
   "cell_type": "markdown",
   "metadata": {},
   "source": [
    "**There are different options available to load data from local to BigQuery table as seen below:** </br>\n",
    "1. using bq command </br>\n",
    "2. using BigQuery python client </br>\n",
    "3. using BigQuery GUI\n"
   ]
  },
  {
   "cell_type": "code",
   "execution_count": 82,
   "metadata": {},
   "outputs": [
    {
     "name": "stdout",
     "output_type": "stream",
     "text": [
      "Upload complete.\n",
      "Waiting on bqjob_rb0fb7f24bc50949_0000017ac61767a2_1 ... (39s) Current status: DONE   \n"
     ]
    }
   ],
   "source": [
    "#option 1:\n",
    "#load data using bq command.\n",
    "!bq load --autodetect --source_format=CSV --max_bad_records=100000 fraud_demo.fraud ./PS_*.csv"
   ]
  },
  {
   "cell_type": "code",
   "execution_count": 83,
   "metadata": {},
   "outputs": [],
   "source": [
    "#option 2: \n",
    "# load data using bigquery python client.\n",
    "from google.cloud import bigquery\n",
    "\n",
    "# Construct a BigQuery client object.\n",
    "client = bigquery.Client()\n",
    "\n",
    "# table_id = \"your-project.your_dataset.your_table_name\"\n",
    "table_id= \"fraud_demo.fraud\"\n",
    "file_path = \"./PS_20174392719_1491204439457_log.csv\"\n",
    "\n",
    "job_config = bigquery.LoadJobConfig(\n",
    "    source_format=bigquery.SourceFormat.CSV, skip_leading_rows=1, autodetect=True\n",
    ")\n",
    "\n",
    "# [TODO] if you have not uploaded the data yet and want to use the python client, then uncomment the following:\n",
    "#with open(file_path, \"rb\") as source_file:\n",
    "#    job = client.load_table_from_file(source_file, table_id, job_config=job_config)\n",
    "#job.result()  # Waits for the job to complete.\n",
    "\n",
    "#table = client.get_table(table_id)  # Make an API request.\n",
    "#print(\n",
    "#    \"Loaded {} rows and {} columns to {}\".format(\n",
    "#        table.num_rows, len(table.schema), table_id\n",
    "#    )\n",
    "#)"
   ]
  },
  {
   "cell_type": "markdown",
   "metadata": {},
   "source": [
    "**Load bigquery extension for calling cell magic to run a query and also display the result as a DataFrame**"
   ]
  },
  {
   "cell_type": "code",
   "execution_count": 21,
   "metadata": {},
   "outputs": [
    {
     "name": "stdout",
     "output_type": "stream",
     "text": [
      "The google.cloud.bigquery extension is already loaded. To reload it, use:\n",
      "  %reload_ext google.cloud.bigquery\n"
     ]
    }
   ],
   "source": [
    "%load_ext google.cloud.bigquery"
   ]
  },
  {
   "cell_type": "markdown",
   "metadata": {},
   "source": [
    "## **03. Explore Data** \n"
   ]
  },
  {
   "cell_type": "code",
   "execution_count": 84,
   "metadata": {},
   "outputs": [
    {
     "name": "stdout",
     "output_type": "stream",
     "text": [
      "Executing query with job ID: c52dd516-08ba-41a9-bfc2-2834edecb041\n",
      "Query executing: 32.01s\n",
      "Query complete after 32.62s\n"
     ]
    }
   ],
   "source": [
    "%%bigquery df --verbose \n",
    "SELECT * \n",
    "FROM\n",
    "fraud_demo.fraud"
   ]
  },
  {
   "cell_type": "code",
   "execution_count": 86,
   "metadata": {},
   "outputs": [
    {
     "data": {
      "text/html": [
       "<div>\n",
       "<style scoped>\n",
       "    .dataframe tbody tr th:only-of-type {\n",
       "        vertical-align: middle;\n",
       "    }\n",
       "\n",
       "    .dataframe tbody tr th {\n",
       "        vertical-align: top;\n",
       "    }\n",
       "\n",
       "    .dataframe thead th {\n",
       "        text-align: right;\n",
       "    }\n",
       "</style>\n",
       "<table border=\"1\" class=\"dataframe\">\n",
       "  <thead>\n",
       "    <tr style=\"text-align: right;\">\n",
       "      <th></th>\n",
       "      <th>0</th>\n",
       "      <th>1</th>\n",
       "      <th>2</th>\n",
       "      <th>3</th>\n",
       "      <th>4</th>\n",
       "    </tr>\n",
       "  </thead>\n",
       "  <tbody>\n",
       "    <tr>\n",
       "      <th>step</th>\n",
       "      <td>249</td>\n",
       "      <td>249</td>\n",
       "      <td>250</td>\n",
       "      <td>250</td>\n",
       "      <td>250</td>\n",
       "    </tr>\n",
       "    <tr>\n",
       "      <th>type</th>\n",
       "      <td>DEBIT</td>\n",
       "      <td>DEBIT</td>\n",
       "      <td>DEBIT</td>\n",
       "      <td>DEBIT</td>\n",
       "      <td>DEBIT</td>\n",
       "    </tr>\n",
       "    <tr>\n",
       "      <th>amount</th>\n",
       "      <td>6749.24</td>\n",
       "      <td>9318.08</td>\n",
       "      <td>310.59</td>\n",
       "      <td>6557.76</td>\n",
       "      <td>4824.92</td>\n",
       "    </tr>\n",
       "    <tr>\n",
       "      <th>nameOrig</th>\n",
       "      <td>C819774090</td>\n",
       "      <td>C504446086</td>\n",
       "      <td>C707138092</td>\n",
       "      <td>C957045762</td>\n",
       "      <td>C475290461</td>\n",
       "    </tr>\n",
       "    <tr>\n",
       "      <th>oldbalanceOrg</th>\n",
       "      <td>81514.2</td>\n",
       "      <td>33</td>\n",
       "      <td>2741.78</td>\n",
       "      <td>0</td>\n",
       "      <td>0</td>\n",
       "    </tr>\n",
       "    <tr>\n",
       "      <th>newbalanceOrig</th>\n",
       "      <td>74764.9</td>\n",
       "      <td>0</td>\n",
       "      <td>2431.19</td>\n",
       "      <td>0</td>\n",
       "      <td>0</td>\n",
       "    </tr>\n",
       "    <tr>\n",
       "      <th>nameDest</th>\n",
       "      <td>C1907170490</td>\n",
       "      <td>C1273144281</td>\n",
       "      <td>C1612311113</td>\n",
       "      <td>C1177243230</td>\n",
       "      <td>C349814050</td>\n",
       "    </tr>\n",
       "    <tr>\n",
       "      <th>oldbalanceDest</th>\n",
       "      <td>441101</td>\n",
       "      <td>17256</td>\n",
       "      <td>133220</td>\n",
       "      <td>9231.8</td>\n",
       "      <td>293689</td>\n",
       "    </tr>\n",
       "    <tr>\n",
       "      <th>newbalanceDest</th>\n",
       "      <td>447850</td>\n",
       "      <td>26574.1</td>\n",
       "      <td>133531</td>\n",
       "      <td>15789.5</td>\n",
       "      <td>298514</td>\n",
       "    </tr>\n",
       "    <tr>\n",
       "      <th>isFraud</th>\n",
       "      <td>0</td>\n",
       "      <td>0</td>\n",
       "      <td>0</td>\n",
       "      <td>0</td>\n",
       "      <td>0</td>\n",
       "    </tr>\n",
       "    <tr>\n",
       "      <th>isFlaggedFraud</th>\n",
       "      <td>0</td>\n",
       "      <td>0</td>\n",
       "      <td>0</td>\n",
       "      <td>0</td>\n",
       "      <td>0</td>\n",
       "    </tr>\n",
       "  </tbody>\n",
       "</table>\n",
       "</div>"
      ],
      "text/plain": [
       "                          0            1            2            3           4\n",
       "step                    249          249          250          250         250\n",
       "type                  DEBIT        DEBIT        DEBIT        DEBIT       DEBIT\n",
       "amount              6749.24      9318.08       310.59      6557.76     4824.92\n",
       "nameOrig         C819774090   C504446086   C707138092   C957045762  C475290461\n",
       "oldbalanceOrg       81514.2           33      2741.78            0           0\n",
       "newbalanceOrig      74764.9            0      2431.19            0           0\n",
       "nameDest        C1907170490  C1273144281  C1612311113  C1177243230  C349814050\n",
       "oldbalanceDest       441101        17256       133220       9231.8      293689\n",
       "newbalanceDest       447850      26574.1       133531      15789.5      298514\n",
       "isFraud                   0            0            0            0           0\n",
       "isFlaggedFraud            0            0            0            0           0"
      ]
     },
     "execution_count": 86,
     "metadata": {},
     "output_type": "execute_result"
    }
   ],
   "source": [
    "df.head().T"
   ]
  },
  {
   "cell_type": "code",
   "execution_count": 87,
   "metadata": {},
   "outputs": [
    {
     "data": {
      "text/plain": [
       "(6362620, 11)"
      ]
     },
     "execution_count": 87,
     "metadata": {},
     "output_type": "execute_result"
    }
   ],
   "source": [
    "df.shape"
   ]
  },
  {
   "cell_type": "code",
   "execution_count": 88,
   "metadata": {},
   "outputs": [
    {
     "data": {
      "text/plain": [
       "0    6354407\n",
       "1       8213\n",
       "Name: isFraud, dtype: int64"
      ]
     },
     "execution_count": 88,
     "metadata": {},
     "output_type": "execute_result"
    }
   ],
   "source": [
    "df[\"isFraud\"].value_counts()"
   ]
  },
  {
   "cell_type": "code",
   "execution_count": 89,
   "metadata": {},
   "outputs": [
    {
     "data": {
      "text/plain": [
       "0    6362604\n",
       "1         16\n",
       "Name: isFlaggedFraud, dtype: int64"
      ]
     },
     "execution_count": 89,
     "metadata": {},
     "output_type": "execute_result"
    }
   ],
   "source": [
    "df[\"isFlaggedFraud\"].value_counts()"
   ]
  },
  {
   "cell_type": "code",
   "execution_count": 90,
   "metadata": {},
   "outputs": [
    {
     "data": {
      "text/html": [
       "<div>\n",
       "<style scoped>\n",
       "    .dataframe tbody tr th:only-of-type {\n",
       "        vertical-align: middle;\n",
       "    }\n",
       "\n",
       "    .dataframe tbody tr th {\n",
       "        vertical-align: top;\n",
       "    }\n",
       "\n",
       "    .dataframe thead th {\n",
       "        text-align: right;\n",
       "    }\n",
       "</style>\n",
       "<table border=\"1\" class=\"dataframe\">\n",
       "  <thead>\n",
       "    <tr style=\"text-align: right;\">\n",
       "      <th></th>\n",
       "      <th>isFraud</th>\n",
       "      <th>type</th>\n",
       "      <th>cnt</th>\n",
       "    </tr>\n",
       "  </thead>\n",
       "  <tbody>\n",
       "    <tr>\n",
       "      <th>0</th>\n",
       "      <td>0</td>\n",
       "      <td>DEBIT</td>\n",
       "      <td>41432</td>\n",
       "    </tr>\n",
       "    <tr>\n",
       "      <th>1</th>\n",
       "      <td>0</td>\n",
       "      <td>CASH_IN</td>\n",
       "      <td>1399284</td>\n",
       "    </tr>\n",
       "    <tr>\n",
       "      <th>2</th>\n",
       "      <td>0</td>\n",
       "      <td>PAYMENT</td>\n",
       "      <td>2151495</td>\n",
       "    </tr>\n",
       "    <tr>\n",
       "      <th>3</th>\n",
       "      <td>0</td>\n",
       "      <td>CASH_OUT</td>\n",
       "      <td>2233384</td>\n",
       "    </tr>\n",
       "    <tr>\n",
       "      <th>4</th>\n",
       "      <td>1</td>\n",
       "      <td>CASH_OUT</td>\n",
       "      <td>4116</td>\n",
       "    </tr>\n",
       "    <tr>\n",
       "      <th>5</th>\n",
       "      <td>0</td>\n",
       "      <td>TRANSFER</td>\n",
       "      <td>528812</td>\n",
       "    </tr>\n",
       "    <tr>\n",
       "      <th>6</th>\n",
       "      <td>1</td>\n",
       "      <td>TRANSFER</td>\n",
       "      <td>4097</td>\n",
       "    </tr>\n",
       "  </tbody>\n",
       "</table>\n",
       "</div>"
      ],
      "text/plain": [
       "   isFraud      type      cnt\n",
       "0        0     DEBIT    41432\n",
       "1        0   CASH_IN  1399284\n",
       "2        0   PAYMENT  2151495\n",
       "3        0  CASH_OUT  2233384\n",
       "4        1  CASH_OUT     4116\n",
       "5        0  TRANSFER   528812\n",
       "6        1  TRANSFER     4097"
      ]
     },
     "execution_count": 90,
     "metadata": {},
     "output_type": "execute_result"
    }
   ],
   "source": [
    "%%bigquery \n",
    "SELECT isFraud, type , count(*) cnt FROM `fraud_demo.fraud` \n",
    "group by isFraud, type"
   ]
  },
  {
   "cell_type": "markdown",
   "metadata": {},
   "source": [
    "**Fraud is only flagged for CASH_OUT and TRANSFER type transactions.** </br> We can filter out the other transaction types while creating the modeling dataset in the data preparation step coming next."
   ]
  },
  {
   "cell_type": "markdown",
   "metadata": {},
   "source": [
    "##  **04. Prepare data** \n",
    "\n",
    "**In this step, we are creating new features, standardising the existing variables, creating an ID and filtering out the redundant transactions.** "
   ]
  },
  {
   "cell_type": "code",
   "execution_count": 130,
   "metadata": {},
   "outputs": [
    {
     "name": "stdout",
     "output_type": "stream",
     "text": [
      "Executing query with job ID: 54aaabb0-7db0-442b-840e-bf5cce5b524b\n",
      "Query executing: 16.30s\n",
      "Query complete after 16.89s\n"
     ]
    },
    {
     "data": {
      "text/html": [
       "<div>\n",
       "<style scoped>\n",
       "    .dataframe tbody tr th:only-of-type {\n",
       "        vertical-align: middle;\n",
       "    }\n",
       "\n",
       "    .dataframe tbody tr th {\n",
       "        vertical-align: top;\n",
       "    }\n",
       "\n",
       "    .dataframe thead th {\n",
       "        text-align: right;\n",
       "    }\n",
       "</style>\n",
       "<table border=\"1\" class=\"dataframe\">\n",
       "  <thead>\n",
       "    <tr style=\"text-align: right;\">\n",
       "      <th></th>\n",
       "    </tr>\n",
       "  </thead>\n",
       "  <tbody>\n",
       "  </tbody>\n",
       "</table>\n",
       "</div>"
      ],
      "text/plain": [
       "Empty DataFrame\n",
       "Columns: []\n",
       "Index: []"
      ]
     },
     "execution_count": 130,
     "metadata": {},
     "output_type": "execute_result"
    }
   ],
   "source": [
    "%%bigquery --verbose \n",
    "create or replace table fraud_demo.fraud_data as\n",
    "SELECT * EXCEPT (oldbalanceOrg, isFlaggedFraud), \n",
    "        oldbalanceOrg as oldbalanceOrig, # standardize the variable naming.\n",
    "        row_number() over(partition by nameOrig order by step desc) as origCnt,\n",
    "        row_number() over(partition by nameDest order by step desc) as destCnt,\n",
    "        if(oldbalanceOrg = 0.0, 1, 0) as origzeroFlg,\n",
    "        if(newbalanceDest = 0.0, 1, 0) as destzeroFlg,\n",
    "        round((newbalanceDest-oldbalanceDest-amount)) as amountDiff,\n",
    "        generate_uuid() as id,           # create a unique id for each transaction.\n",
    "FROM\n",
    "fraud_demo.fraud\n",
    "where type in (\"CASH_OUT\",\"TRANSFER\")\n",
    "      and (isFraud = 1 or (RAND()< 10/100))  # select 10% of the non-fraud cases "
   ]
  },
  {
   "cell_type": "markdown",
   "metadata": {},
   "source": [
    "**Create a test dataset by splitting the data as \"Train\" and \"Test\" and randomly selecting 20% of the observations for test.**"
   ]
  },
  {
   "cell_type": "code",
   "execution_count": 98,
   "metadata": {},
   "outputs": [
    {
     "name": "stdout",
     "output_type": "stream",
     "text": [
      "Executing query with job ID: 2513506d-7af2-47db-a24c-52a8e1cd2abc\n",
      "Query executing: 7.10s\n",
      "Query complete after 7.56s\n"
     ]
    }
   ],
   "source": [
    "%%bigquery df_model --verbose \n",
    "select *,\n",
    "    if(RAND()< 20/100, \"Test\", \"Train\") as part\n",
    "from fraud_demo.fraud_data"
   ]
  },
  {
   "cell_type": "markdown",
   "metadata": {},
   "source": [
    "**Run correlation analysis to see the interactions between variables.**"
   ]
  },
  {
   "cell_type": "code",
   "execution_count": 134,
   "metadata": {},
   "outputs": [
    {
     "data": {
      "text/html": [
       "<style  type=\"text/css\" >\n",
       "#T_5f717b34_e9b2_11eb_bb4f_42010a8a0008row0_col0,#T_5f717b34_e9b2_11eb_bb4f_42010a8a0008row1_col1,#T_5f717b34_e9b2_11eb_bb4f_42010a8a0008row2_col2,#T_5f717b34_e9b2_11eb_bb4f_42010a8a0008row3_col3,#T_5f717b34_e9b2_11eb_bb4f_42010a8a0008row4_col4,#T_5f717b34_e9b2_11eb_bb4f_42010a8a0008row5_col5,#T_5f717b34_e9b2_11eb_bb4f_42010a8a0008row6_col6,#T_5f717b34_e9b2_11eb_bb4f_42010a8a0008row7_col7,#T_5f717b34_e9b2_11eb_bb4f_42010a8a0008row8_col8,#T_5f717b34_e9b2_11eb_bb4f_42010a8a0008row9_col9,#T_5f717b34_e9b2_11eb_bb4f_42010a8a0008row10_col10{\n",
       "            background-color:  #007ad1;\n",
       "            color:  #f1f1f1;\n",
       "        }#T_5f717b34_e9b2_11eb_bb4f_42010a8a0008row0_col1,#T_5f717b34_e9b2_11eb_bb4f_42010a8a0008row6_col3,#T_5f717b34_e9b2_11eb_bb4f_42010a8a0008row6_col9,#T_5f717b34_e9b2_11eb_bb4f_42010a8a0008row7_col3{\n",
       "            background-color:  #bfd8ec;\n",
       "            color:  #000000;\n",
       "        }#T_5f717b34_e9b2_11eb_bb4f_42010a8a0008row0_col2{\n",
       "            background-color:  #66addf;\n",
       "            color:  #000000;\n",
       "        }#T_5f717b34_e9b2_11eb_bb4f_42010a8a0008row0_col3,#T_5f717b34_e9b2_11eb_bb4f_42010a8a0008row4_col2,#T_5f717b34_e9b2_11eb_bb4f_42010a8a0008row7_col2{\n",
       "            background-color:  #b1d1ea;\n",
       "            color:  #000000;\n",
       "        }#T_5f717b34_e9b2_11eb_bb4f_42010a8a0008row0_col4,#T_5f717b34_e9b2_11eb_bb4f_42010a8a0008row0_col6,#T_5f717b34_e9b2_11eb_bb4f_42010a8a0008row0_col7,#T_5f717b34_e9b2_11eb_bb4f_42010a8a0008row0_col8,#T_5f717b34_e9b2_11eb_bb4f_42010a8a0008row1_col6,#T_5f717b34_e9b2_11eb_bb4f_42010a8a0008row2_col6,#T_5f717b34_e9b2_11eb_bb4f_42010a8a0008row2_col10,#T_5f717b34_e9b2_11eb_bb4f_42010a8a0008row3_col6,#T_5f717b34_e9b2_11eb_bb4f_42010a8a0008row4_col6,#T_5f717b34_e9b2_11eb_bb4f_42010a8a0008row5_col6,#T_5f717b34_e9b2_11eb_bb4f_42010a8a0008row6_col1,#T_5f717b34_e9b2_11eb_bb4f_42010a8a0008row7_col1,#T_5f717b34_e9b2_11eb_bb4f_42010a8a0008row7_col6,#T_5f717b34_e9b2_11eb_bb4f_42010a8a0008row8_col1,#T_5f717b34_e9b2_11eb_bb4f_42010a8a0008row8_col6,#T_5f717b34_e9b2_11eb_bb4f_42010a8a0008row9_col4,#T_5f717b34_e9b2_11eb_bb4f_42010a8a0008row9_col5,#T_5f717b34_e9b2_11eb_bb4f_42010a8a0008row9_col6,#T_5f717b34_e9b2_11eb_bb4f_42010a8a0008row10_col0,#T_5f717b34_e9b2_11eb_bb4f_42010a8a0008row10_col2,#T_5f717b34_e9b2_11eb_bb4f_42010a8a0008row10_col3,#T_5f717b34_e9b2_11eb_bb4f_42010a8a0008row10_col6,#T_5f717b34_e9b2_11eb_bb4f_42010a8a0008row10_col9{\n",
       "            background-color:  #f0f1f3;\n",
       "            color:  #000000;\n",
       "        }#T_5f717b34_e9b2_11eb_bb4f_42010a8a0008row0_col5,#T_5f717b34_e9b2_11eb_bb4f_42010a8a0008row1_col7,#T_5f717b34_e9b2_11eb_bb4f_42010a8a0008row2_col4,#T_5f717b34_e9b2_11eb_bb4f_42010a8a0008row2_col7,#T_5f717b34_e9b2_11eb_bb4f_42010a8a0008row2_col8,#T_5f717b34_e9b2_11eb_bb4f_42010a8a0008row3_col7,#T_5f717b34_e9b2_11eb_bb4f_42010a8a0008row8_col0,#T_5f717b34_e9b2_11eb_bb4f_42010a8a0008row9_col7,#T_5f717b34_e9b2_11eb_bb4f_42010a8a0008row10_col1{\n",
       "            background-color:  #ebeef2;\n",
       "            color:  #000000;\n",
       "        }#T_5f717b34_e9b2_11eb_bb4f_42010a8a0008row0_col9{\n",
       "            background-color:  #499edb;\n",
       "            color:  #000000;\n",
       "        }#T_5f717b34_e9b2_11eb_bb4f_42010a8a0008row0_col10,#T_5f717b34_e9b2_11eb_bb4f_42010a8a0008row1_col8,#T_5f717b34_e9b2_11eb_bb4f_42010a8a0008row4_col0,#T_5f717b34_e9b2_11eb_bb4f_42010a8a0008row6_col8,#T_5f717b34_e9b2_11eb_bb4f_42010a8a0008row7_col0,#T_5f717b34_e9b2_11eb_bb4f_42010a8a0008row8_col9,#T_5f717b34_e9b2_11eb_bb4f_42010a8a0008row9_col1{\n",
       "            background-color:  #d3e2ef;\n",
       "            color:  #000000;\n",
       "        }#T_5f717b34_e9b2_11eb_bb4f_42010a8a0008row1_col0,#T_5f717b34_e9b2_11eb_bb4f_42010a8a0008row1_col3,#T_5f717b34_e9b2_11eb_bb4f_42010a8a0008row4_col10,#T_5f717b34_e9b2_11eb_bb4f_42010a8a0008row7_col10{\n",
       "            background-color:  #a2cae8;\n",
       "            color:  #000000;\n",
       "        }#T_5f717b34_e9b2_11eb_bb4f_42010a8a0008row1_col2{\n",
       "            background-color:  #62aadf;\n",
       "            color:  #000000;\n",
       "        }#T_5f717b34_e9b2_11eb_bb4f_42010a8a0008row1_col4,#T_5f717b34_e9b2_11eb_bb4f_42010a8a0008row1_col10,#T_5f717b34_e9b2_11eb_bb4f_42010a8a0008row5_col2,#T_5f717b34_e9b2_11eb_bb4f_42010a8a0008row6_col2,#T_5f717b34_e9b2_11eb_bb4f_42010a8a0008row6_col10,#T_5f717b34_e9b2_11eb_bb4f_42010a8a0008row9_col3{\n",
       "            background-color:  #abcfe9;\n",
       "            color:  #000000;\n",
       "        }#T_5f717b34_e9b2_11eb_bb4f_42010a8a0008row1_col5{\n",
       "            background-color:  #7fb9e3;\n",
       "            color:  #000000;\n",
       "        }#T_5f717b34_e9b2_11eb_bb4f_42010a8a0008row1_col9,#T_5f717b34_e9b2_11eb_bb4f_42010a8a0008row3_col9,#T_5f717b34_e9b2_11eb_bb4f_42010a8a0008row8_col10{\n",
       "            background-color:  #a6cce8;\n",
       "            color:  #000000;\n",
       "        }#T_5f717b34_e9b2_11eb_bb4f_42010a8a0008row2_col0{\n",
       "            background-color:  #75b4e1;\n",
       "            color:  #000000;\n",
       "        }#T_5f717b34_e9b2_11eb_bb4f_42010a8a0008row2_col1,#T_5f717b34_e9b2_11eb_bb4f_42010a8a0008row2_col9,#T_5f717b34_e9b2_11eb_bb4f_42010a8a0008row5_col1,#T_5f717b34_e9b2_11eb_bb4f_42010a8a0008row5_col10{\n",
       "            background-color:  #89bee4;\n",
       "            color:  #000000;\n",
       "        }#T_5f717b34_e9b2_11eb_bb4f_42010a8a0008row2_col3{\n",
       "            background-color:  #3192d8;\n",
       "            color:  #000000;\n",
       "        }#T_5f717b34_e9b2_11eb_bb4f_42010a8a0008row2_col5,#T_5f717b34_e9b2_11eb_bb4f_42010a8a0008row4_col7,#T_5f717b34_e9b2_11eb_bb4f_42010a8a0008row5_col7,#T_5f717b34_e9b2_11eb_bb4f_42010a8a0008row7_col4{\n",
       "            background-color:  #e2eaf1;\n",
       "            color:  #000000;\n",
       "        }#T_5f717b34_e9b2_11eb_bb4f_42010a8a0008row3_col0,#T_5f717b34_e9b2_11eb_bb4f_42010a8a0008row4_col1,#T_5f717b34_e9b2_11eb_bb4f_42010a8a0008row4_col8,#T_5f717b34_e9b2_11eb_bb4f_42010a8a0008row5_col8,#T_5f717b34_e9b2_11eb_bb4f_42010a8a0008row10_col5{\n",
       "            background-color:  #b5d4ea;\n",
       "            color:  #000000;\n",
       "        }#T_5f717b34_e9b2_11eb_bb4f_42010a8a0008row3_col1,#T_5f717b34_e9b2_11eb_bb4f_42010a8a0008row4_col9,#T_5f717b34_e9b2_11eb_bb4f_42010a8a0008row5_col9,#T_5f717b34_e9b2_11eb_bb4f_42010a8a0008row6_col0,#T_5f717b34_e9b2_11eb_bb4f_42010a8a0008row7_col8,#T_5f717b34_e9b2_11eb_bb4f_42010a8a0008row8_col5,#T_5f717b34_e9b2_11eb_bb4f_42010a8a0008row10_col8{\n",
       "            background-color:  #c9deed;\n",
       "            color:  #000000;\n",
       "        }#T_5f717b34_e9b2_11eb_bb4f_42010a8a0008row3_col2{\n",
       "            background-color:  #2c90d7;\n",
       "            color:  #000000;\n",
       "        }#T_5f717b34_e9b2_11eb_bb4f_42010a8a0008row3_col4,#T_5f717b34_e9b2_11eb_bb4f_42010a8a0008row3_col5,#T_5f717b34_e9b2_11eb_bb4f_42010a8a0008row6_col4,#T_5f717b34_e9b2_11eb_bb4f_42010a8a0008row6_col5,#T_5f717b34_e9b2_11eb_bb4f_42010a8a0008row6_col7,#T_5f717b34_e9b2_11eb_bb4f_42010a8a0008row9_col8{\n",
       "            background-color:  #e6ecf1;\n",
       "            color:  #000000;\n",
       "        }#T_5f717b34_e9b2_11eb_bb4f_42010a8a0008row3_col8,#T_5f717b34_e9b2_11eb_bb4f_42010a8a0008row7_col5,#T_5f717b34_e9b2_11eb_bb4f_42010a8a0008row8_col7,#T_5f717b34_e9b2_11eb_bb4f_42010a8a0008row9_col10,#T_5f717b34_e9b2_11eb_bb4f_42010a8a0008row10_col7{\n",
       "            background-color:  #dde7f0;\n",
       "            color:  #000000;\n",
       "        }#T_5f717b34_e9b2_11eb_bb4f_42010a8a0008row3_col10,#T_5f717b34_e9b2_11eb_bb4f_42010a8a0008row10_col4{\n",
       "            background-color:  #d7e5ef;\n",
       "            color:  #000000;\n",
       "        }#T_5f717b34_e9b2_11eb_bb4f_42010a8a0008row4_col3,#T_5f717b34_e9b2_11eb_bb4f_42010a8a0008row5_col3,#T_5f717b34_e9b2_11eb_bb4f_42010a8a0008row7_col9,#T_5f717b34_e9b2_11eb_bb4f_42010a8a0008row8_col2,#T_5f717b34_e9b2_11eb_bb4f_42010a8a0008row8_col4{\n",
       "            background-color:  #c4dbec;\n",
       "            color:  #000000;\n",
       "        }#T_5f717b34_e9b2_11eb_bb4f_42010a8a0008row4_col5,#T_5f717b34_e9b2_11eb_bb4f_42010a8a0008row5_col4{\n",
       "            background-color:  #057cd1;\n",
       "            color:  #f1f1f1;\n",
       "        }#T_5f717b34_e9b2_11eb_bb4f_42010a8a0008row5_col0,#T_5f717b34_e9b2_11eb_bb4f_42010a8a0008row8_col3{\n",
       "            background-color:  #cee0ee;\n",
       "            color:  #000000;\n",
       "        }#T_5f717b34_e9b2_11eb_bb4f_42010a8a0008row9_col0{\n",
       "            background-color:  #4ea0dc;\n",
       "            color:  #000000;\n",
       "        }#T_5f717b34_e9b2_11eb_bb4f_42010a8a0008row9_col2{\n",
       "            background-color:  #7ab6e2;\n",
       "            color:  #000000;\n",
       "        }</style><table id=\"T_5f717b34_e9b2_11eb_bb4f_42010a8a0008\" ><thead>    <tr>        <th class=\"blank level0\" ></th>        <th class=\"col_heading level0 col0\" >isFraud</th>        <th class=\"col_heading level0 col1\" >amount</th>        <th class=\"col_heading level0 col2\" >oldbalanceOrig</th>        <th class=\"col_heading level0 col3\" >newbalanceOrig</th>        <th class=\"col_heading level0 col4\" >oldbalanceDest</th>        <th class=\"col_heading level0 col5\" >newbalanceDest</th>        <th class=\"col_heading level0 col6\" >origCnt</th>        <th class=\"col_heading level0 col7\" >destCnt</th>        <th class=\"col_heading level0 col8\" >origzeroFlg</th>        <th class=\"col_heading level0 col9\" >destzeroFlg</th>        <th class=\"col_heading level0 col10\" >amountDiff</th>    </tr></thead><tbody>\n",
       "                <tr>\n",
       "                        <th id=\"T_5f717b34_e9b2_11eb_bb4f_42010a8a0008level0_row0\" class=\"row_heading level0 row0\" >isFraud</th>\n",
       "                        <td id=\"T_5f717b34_e9b2_11eb_bb4f_42010a8a0008row0_col0\" class=\"data row0 col0\" >1.000000</td>\n",
       "                        <td id=\"T_5f717b34_e9b2_11eb_bb4f_42010a8a0008row0_col1\" class=\"data row0 col1\" >0.206106</td>\n",
       "                        <td id=\"T_5f717b34_e9b2_11eb_bb4f_42010a8a0008row0_col2\" class=\"data row0 col2\" >0.405933</td>\n",
       "                        <td id=\"T_5f717b34_e9b2_11eb_bb4f_42010a8a0008row0_col3\" class=\"data row0 col3\" >0.088876</td>\n",
       "                        <td id=\"T_5f717b34_e9b2_11eb_bb4f_42010a8a0008row0_col4\" class=\"data row0 col4\" >-0.045302</td>\n",
       "                        <td id=\"T_5f717b34_e9b2_11eb_bb4f_42010a8a0008row0_col5\" class=\"data row0 col5\" >-0.026689</td>\n",
       "                        <td id=\"T_5f717b34_e9b2_11eb_bb4f_42010a8a0008row0_col6\" class=\"data row0 col6\" >-0.001577</td>\n",
       "                        <td id=\"T_5f717b34_e9b2_11eb_bb4f_42010a8a0008row0_col7\" class=\"data row0 col7\" >-0.043044</td>\n",
       "                        <td id=\"T_5f717b34_e9b2_11eb_bb4f_42010a8a0008row0_col8\" class=\"data row0 col8\" >-0.157207</td>\n",
       "                        <td id=\"T_5f717b34_e9b2_11eb_bb4f_42010a8a0008row0_col9\" class=\"data row0 col9\" >0.608083</td>\n",
       "                        <td id=\"T_5f717b34_e9b2_11eb_bb4f_42010a8a0008row0_col10\" class=\"data row0 col10\" >-0.202635</td>\n",
       "            </tr>\n",
       "            <tr>\n",
       "                        <th id=\"T_5f717b34_e9b2_11eb_bb4f_42010a8a0008level0_row1\" class=\"row_heading level0 row1\" >amount</th>\n",
       "                        <td id=\"T_5f717b34_e9b2_11eb_bb4f_42010a8a0008row1_col0\" class=\"data row1 col0\" >0.206106</td>\n",
       "                        <td id=\"T_5f717b34_e9b2_11eb_bb4f_42010a8a0008row1_col1\" class=\"data row1 col1\" >1.000000</td>\n",
       "                        <td id=\"T_5f717b34_e9b2_11eb_bb4f_42010a8a0008row1_col2\" class=\"data row1 col2\" >0.416351</td>\n",
       "                        <td id=\"T_5f717b34_e9b2_11eb_bb4f_42010a8a0008row1_col3\" class=\"data row1 col3\" >0.153087</td>\n",
       "                        <td id=\"T_5f717b34_e9b2_11eb_bb4f_42010a8a0008row1_col4\" class=\"data row1 col4\" >0.241787</td>\n",
       "                        <td id=\"T_5f717b34_e9b2_11eb_bb4f_42010a8a0008row1_col5\" class=\"data row1 col5\" >0.427925</td>\n",
       "                        <td id=\"T_5f717b34_e9b2_11eb_bb4f_42010a8a0008row1_col6\" class=\"data row1 col6\" >0.000054</td>\n",
       "                        <td id=\"T_5f717b34_e9b2_11eb_bb4f_42010a8a0008row1_col7\" class=\"data row1 col7\" >-0.008308</td>\n",
       "                        <td id=\"T_5f717b34_e9b2_11eb_bb4f_42010a8a0008row1_col8\" class=\"data row1 col8\" >-0.013165</td>\n",
       "                        <td id=\"T_5f717b34_e9b2_11eb_bb4f_42010a8a0008row1_col9\" class=\"data row1 col9\" >0.119977</td>\n",
       "                        <td id=\"T_5f717b34_e9b2_11eb_bb4f_42010a8a0008row1_col10\" class=\"data row1 col10\" >0.019248</td>\n",
       "            </tr>\n",
       "            <tr>\n",
       "                        <th id=\"T_5f717b34_e9b2_11eb_bb4f_42010a8a0008level0_row2\" class=\"row_heading level0 row2\" >oldbalanceOrig</th>\n",
       "                        <td id=\"T_5f717b34_e9b2_11eb_bb4f_42010a8a0008row2_col0\" class=\"data row2 col0\" >0.405933</td>\n",
       "                        <td id=\"T_5f717b34_e9b2_11eb_bb4f_42010a8a0008row2_col1\" class=\"data row2 col1\" >0.416351</td>\n",
       "                        <td id=\"T_5f717b34_e9b2_11eb_bb4f_42010a8a0008row2_col2\" class=\"data row2 col2\" >1.000000</td>\n",
       "                        <td id=\"T_5f717b34_e9b2_11eb_bb4f_42010a8a0008row2_col3\" class=\"data row2 col3\" >0.736656</td>\n",
       "                        <td id=\"T_5f717b34_e9b2_11eb_bb4f_42010a8a0008row2_col4\" class=\"data row2 col4\" >-0.024971</td>\n",
       "                        <td id=\"T_5f717b34_e9b2_11eb_bb4f_42010a8a0008row2_col5\" class=\"data row2 col5\" >0.008620</td>\n",
       "                        <td id=\"T_5f717b34_e9b2_11eb_bb4f_42010a8a0008row2_col6\" class=\"data row2 col6\" >-0.000654</td>\n",
       "                        <td id=\"T_5f717b34_e9b2_11eb_bb4f_42010a8a0008row2_col7\" class=\"data row2 col7\" >-0.017105</td>\n",
       "                        <td id=\"T_5f717b34_e9b2_11eb_bb4f_42010a8a0008row2_col8\" class=\"data row2 col8\" >-0.123253</td>\n",
       "                        <td id=\"T_5f717b34_e9b2_11eb_bb4f_42010a8a0008row2_col9\" class=\"data row2 col9\" >0.278953</td>\n",
       "                        <td id=\"T_5f717b34_e9b2_11eb_bb4f_42010a8a0008row2_col10\" class=\"data row2 col10\" >-0.396038</td>\n",
       "            </tr>\n",
       "            <tr>\n",
       "                        <th id=\"T_5f717b34_e9b2_11eb_bb4f_42010a8a0008level0_row3\" class=\"row_heading level0 row3\" >newbalanceOrig</th>\n",
       "                        <td id=\"T_5f717b34_e9b2_11eb_bb4f_42010a8a0008row3_col0\" class=\"data row3 col0\" >0.088876</td>\n",
       "                        <td id=\"T_5f717b34_e9b2_11eb_bb4f_42010a8a0008row3_col1\" class=\"data row3 col1\" >0.153087</td>\n",
       "                        <td id=\"T_5f717b34_e9b2_11eb_bb4f_42010a8a0008row3_col2\" class=\"data row3 col2\" >0.736656</td>\n",
       "                        <td id=\"T_5f717b34_e9b2_11eb_bb4f_42010a8a0008row3_col3\" class=\"data row3 col3\" >1.000000</td>\n",
       "                        <td id=\"T_5f717b34_e9b2_11eb_bb4f_42010a8a0008row3_col4\" class=\"data row3 col4\" >-0.010700</td>\n",
       "                        <td id=\"T_5f717b34_e9b2_11eb_bb4f_42010a8a0008row3_col5\" class=\"data row3 col5\" >-0.012882</td>\n",
       "                        <td id=\"T_5f717b34_e9b2_11eb_bb4f_42010a8a0008row3_col6\" class=\"data row3 col6\" >-0.000423</td>\n",
       "                        <td id=\"T_5f717b34_e9b2_11eb_bb4f_42010a8a0008row3_col7\" class=\"data row3 col7\" >-0.002244</td>\n",
       "                        <td id=\"T_5f717b34_e9b2_11eb_bb4f_42010a8a0008row3_col8\" class=\"data row3 col8\" >-0.055855</td>\n",
       "                        <td id=\"T_5f717b34_e9b2_11eb_bb4f_42010a8a0008row3_col9\" class=\"data row3 col9\" >0.118066</td>\n",
       "                        <td id=\"T_5f717b34_e9b2_11eb_bb4f_42010a8a0008row3_col10\" class=\"data row3 col10\" >-0.253585</td>\n",
       "            </tr>\n",
       "            <tr>\n",
       "                        <th id=\"T_5f717b34_e9b2_11eb_bb4f_42010a8a0008level0_row4\" class=\"row_heading level0 row4\" >oldbalanceDest</th>\n",
       "                        <td id=\"T_5f717b34_e9b2_11eb_bb4f_42010a8a0008row4_col0\" class=\"data row4 col0\" >-0.045302</td>\n",
       "                        <td id=\"T_5f717b34_e9b2_11eb_bb4f_42010a8a0008row4_col1\" class=\"data row4 col1\" >0.241787</td>\n",
       "                        <td id=\"T_5f717b34_e9b2_11eb_bb4f_42010a8a0008row4_col2\" class=\"data row4 col2\" >-0.024971</td>\n",
       "                        <td id=\"T_5f717b34_e9b2_11eb_bb4f_42010a8a0008row4_col3\" class=\"data row4 col3\" >-0.010700</td>\n",
       "                        <td id=\"T_5f717b34_e9b2_11eb_bb4f_42010a8a0008row4_col4\" class=\"data row4 col4\" >1.000000</td>\n",
       "                        <td id=\"T_5f717b34_e9b2_11eb_bb4f_42010a8a0008row4_col5\" class=\"data row4 col5\" >0.970541</td>\n",
       "                        <td id=\"T_5f717b34_e9b2_11eb_bb4f_42010a8a0008row4_col6\" class=\"data row4 col6\" >0.002370</td>\n",
       "                        <td id=\"T_5f717b34_e9b2_11eb_bb4f_42010a8a0008row4_col7\" class=\"data row4 col7\" >0.021453</td>\n",
       "                        <td id=\"T_5f717b34_e9b2_11eb_bb4f_42010a8a0008row4_col8\" class=\"data row4 col8\" >0.140415</td>\n",
       "                        <td id=\"T_5f717b34_e9b2_11eb_bb4f_42010a8a0008row4_col9\" class=\"data row4 col9\" >-0.053360</td>\n",
       "                        <td id=\"T_5f717b34_e9b2_11eb_bb4f_42010a8a0008row4_col10\" class=\"data row4 col10\" >0.062163</td>\n",
       "            </tr>\n",
       "            <tr>\n",
       "                        <th id=\"T_5f717b34_e9b2_11eb_bb4f_42010a8a0008level0_row5\" class=\"row_heading level0 row5\" >newbalanceDest</th>\n",
       "                        <td id=\"T_5f717b34_e9b2_11eb_bb4f_42010a8a0008row5_col0\" class=\"data row5 col0\" >-0.026689</td>\n",
       "                        <td id=\"T_5f717b34_e9b2_11eb_bb4f_42010a8a0008row5_col1\" class=\"data row5 col1\" >0.427925</td>\n",
       "                        <td id=\"T_5f717b34_e9b2_11eb_bb4f_42010a8a0008row5_col2\" class=\"data row5 col2\" >0.008620</td>\n",
       "                        <td id=\"T_5f717b34_e9b2_11eb_bb4f_42010a8a0008row5_col3\" class=\"data row5 col3\" >-0.012882</td>\n",
       "                        <td id=\"T_5f717b34_e9b2_11eb_bb4f_42010a8a0008row5_col4\" class=\"data row5 col4\" >0.970541</td>\n",
       "                        <td id=\"T_5f717b34_e9b2_11eb_bb4f_42010a8a0008row5_col5\" class=\"data row5 col5\" >1.000000</td>\n",
       "                        <td id=\"T_5f717b34_e9b2_11eb_bb4f_42010a8a0008row5_col6\" class=\"data row5 col6\" >0.002276</td>\n",
       "                        <td id=\"T_5f717b34_e9b2_11eb_bb4f_42010a8a0008row5_col7\" class=\"data row5 col7\" >0.025169</td>\n",
       "                        <td id=\"T_5f717b34_e9b2_11eb_bb4f_42010a8a0008row5_col8\" class=\"data row5 col8\" >0.130229</td>\n",
       "                        <td id=\"T_5f717b34_e9b2_11eb_bb4f_42010a8a0008row5_col9\" class=\"data row5 col9\" >-0.059861</td>\n",
       "                        <td id=\"T_5f717b34_e9b2_11eb_bb4f_42010a8a0008row5_col10\" class=\"data row5 col10\" >0.196510</td>\n",
       "            </tr>\n",
       "            <tr>\n",
       "                        <th id=\"T_5f717b34_e9b2_11eb_bb4f_42010a8a0008level0_row6\" class=\"row_heading level0 row6\" >origCnt</th>\n",
       "                        <td id=\"T_5f717b34_e9b2_11eb_bb4f_42010a8a0008row6_col0\" class=\"data row6 col0\" >-0.001577</td>\n",
       "                        <td id=\"T_5f717b34_e9b2_11eb_bb4f_42010a8a0008row6_col1\" class=\"data row6 col1\" >0.000054</td>\n",
       "                        <td id=\"T_5f717b34_e9b2_11eb_bb4f_42010a8a0008row6_col2\" class=\"data row6 col2\" >-0.000654</td>\n",
       "                        <td id=\"T_5f717b34_e9b2_11eb_bb4f_42010a8a0008row6_col3\" class=\"data row6 col3\" >-0.000423</td>\n",
       "                        <td id=\"T_5f717b34_e9b2_11eb_bb4f_42010a8a0008row6_col4\" class=\"data row6 col4\" >0.002370</td>\n",
       "                        <td id=\"T_5f717b34_e9b2_11eb_bb4f_42010a8a0008row6_col5\" class=\"data row6 col5\" >0.002276</td>\n",
       "                        <td id=\"T_5f717b34_e9b2_11eb_bb4f_42010a8a0008row6_col6\" class=\"data row6 col6\" >1.000000</td>\n",
       "                        <td id=\"T_5f717b34_e9b2_11eb_bb4f_42010a8a0008row6_col7\" class=\"data row6 col7\" >0.004735</td>\n",
       "                        <td id=\"T_5f717b34_e9b2_11eb_bb4f_42010a8a0008row6_col8\" class=\"data row6 col8\" >0.003166</td>\n",
       "                        <td id=\"T_5f717b34_e9b2_11eb_bb4f_42010a8a0008row6_col9\" class=\"data row6 col9\" >-0.001266</td>\n",
       "                        <td id=\"T_5f717b34_e9b2_11eb_bb4f_42010a8a0008row6_col10\" class=\"data row6 col10\" >0.000749</td>\n",
       "            </tr>\n",
       "            <tr>\n",
       "                        <th id=\"T_5f717b34_e9b2_11eb_bb4f_42010a8a0008level0_row7\" class=\"row_heading level0 row7\" >destCnt</th>\n",
       "                        <td id=\"T_5f717b34_e9b2_11eb_bb4f_42010a8a0008row7_col0\" class=\"data row7 col0\" >-0.043044</td>\n",
       "                        <td id=\"T_5f717b34_e9b2_11eb_bb4f_42010a8a0008row7_col1\" class=\"data row7 col1\" >-0.008308</td>\n",
       "                        <td id=\"T_5f717b34_e9b2_11eb_bb4f_42010a8a0008row7_col2\" class=\"data row7 col2\" >-0.017105</td>\n",
       "                        <td id=\"T_5f717b34_e9b2_11eb_bb4f_42010a8a0008row7_col3\" class=\"data row7 col3\" >-0.002244</td>\n",
       "                        <td id=\"T_5f717b34_e9b2_11eb_bb4f_42010a8a0008row7_col4\" class=\"data row7 col4\" >0.021453</td>\n",
       "                        <td id=\"T_5f717b34_e9b2_11eb_bb4f_42010a8a0008row7_col5\" class=\"data row7 col5\" >0.025169</td>\n",
       "                        <td id=\"T_5f717b34_e9b2_11eb_bb4f_42010a8a0008row7_col6\" class=\"data row7 col6\" >0.004735</td>\n",
       "                        <td id=\"T_5f717b34_e9b2_11eb_bb4f_42010a8a0008row7_col7\" class=\"data row7 col7\" >1.000000</td>\n",
       "                        <td id=\"T_5f717b34_e9b2_11eb_bb4f_42010a8a0008row7_col8\" class=\"data row7 col8\" >0.045083</td>\n",
       "                        <td id=\"T_5f717b34_e9b2_11eb_bb4f_42010a8a0008row7_col9\" class=\"data row7 col9\" >-0.021720</td>\n",
       "                        <td id=\"T_5f717b34_e9b2_11eb_bb4f_42010a8a0008row7_col10\" class=\"data row7 col10\" >0.053670</td>\n",
       "            </tr>\n",
       "            <tr>\n",
       "                        <th id=\"T_5f717b34_e9b2_11eb_bb4f_42010a8a0008level0_row8\" class=\"row_heading level0 row8\" >origzeroFlg</th>\n",
       "                        <td id=\"T_5f717b34_e9b2_11eb_bb4f_42010a8a0008row8_col0\" class=\"data row8 col0\" >-0.157207</td>\n",
       "                        <td id=\"T_5f717b34_e9b2_11eb_bb4f_42010a8a0008row8_col1\" class=\"data row8 col1\" >-0.013165</td>\n",
       "                        <td id=\"T_5f717b34_e9b2_11eb_bb4f_42010a8a0008row8_col2\" class=\"data row8 col2\" >-0.123253</td>\n",
       "                        <td id=\"T_5f717b34_e9b2_11eb_bb4f_42010a8a0008row8_col3\" class=\"data row8 col3\" >-0.055855</td>\n",
       "                        <td id=\"T_5f717b34_e9b2_11eb_bb4f_42010a8a0008row8_col4\" class=\"data row8 col4\" >0.140415</td>\n",
       "                        <td id=\"T_5f717b34_e9b2_11eb_bb4f_42010a8a0008row8_col5\" class=\"data row8 col5\" >0.130229</td>\n",
       "                        <td id=\"T_5f717b34_e9b2_11eb_bb4f_42010a8a0008row8_col6\" class=\"data row8 col6\" >0.003166</td>\n",
       "                        <td id=\"T_5f717b34_e9b2_11eb_bb4f_42010a8a0008row8_col7\" class=\"data row8 col7\" >0.045083</td>\n",
       "                        <td id=\"T_5f717b34_e9b2_11eb_bb4f_42010a8a0008row8_col8\" class=\"data row8 col8\" >1.000000</td>\n",
       "                        <td id=\"T_5f717b34_e9b2_11eb_bb4f_42010a8a0008row8_col9\" class=\"data row8 col9\" >-0.109764</td>\n",
       "                        <td id=\"T_5f717b34_e9b2_11eb_bb4f_42010a8a0008row8_col10\" class=\"data row8 col10\" >0.035181</td>\n",
       "            </tr>\n",
       "            <tr>\n",
       "                        <th id=\"T_5f717b34_e9b2_11eb_bb4f_42010a8a0008level0_row9\" class=\"row_heading level0 row9\" >destzeroFlg</th>\n",
       "                        <td id=\"T_5f717b34_e9b2_11eb_bb4f_42010a8a0008row9_col0\" class=\"data row9 col0\" >0.608083</td>\n",
       "                        <td id=\"T_5f717b34_e9b2_11eb_bb4f_42010a8a0008row9_col1\" class=\"data row9 col1\" >0.119977</td>\n",
       "                        <td id=\"T_5f717b34_e9b2_11eb_bb4f_42010a8a0008row9_col2\" class=\"data row9 col2\" >0.278953</td>\n",
       "                        <td id=\"T_5f717b34_e9b2_11eb_bb4f_42010a8a0008row9_col3\" class=\"data row9 col3\" >0.118066</td>\n",
       "                        <td id=\"T_5f717b34_e9b2_11eb_bb4f_42010a8a0008row9_col4\" class=\"data row9 col4\" >-0.053360</td>\n",
       "                        <td id=\"T_5f717b34_e9b2_11eb_bb4f_42010a8a0008row9_col5\" class=\"data row9 col5\" >-0.059861</td>\n",
       "                        <td id=\"T_5f717b34_e9b2_11eb_bb4f_42010a8a0008row9_col6\" class=\"data row9 col6\" >-0.001266</td>\n",
       "                        <td id=\"T_5f717b34_e9b2_11eb_bb4f_42010a8a0008row9_col7\" class=\"data row9 col7\" >-0.021720</td>\n",
       "                        <td id=\"T_5f717b34_e9b2_11eb_bb4f_42010a8a0008row9_col8\" class=\"data row9 col8\" >-0.109764</td>\n",
       "                        <td id=\"T_5f717b34_e9b2_11eb_bb4f_42010a8a0008row9_col9\" class=\"data row9 col9\" >1.000000</td>\n",
       "                        <td id=\"T_5f717b34_e9b2_11eb_bb4f_42010a8a0008row9_col10\" class=\"data row9 col10\" >-0.262933</td>\n",
       "            </tr>\n",
       "            <tr>\n",
       "                        <th id=\"T_5f717b34_e9b2_11eb_bb4f_42010a8a0008level0_row10\" class=\"row_heading level0 row10\" >amountDiff</th>\n",
       "                        <td id=\"T_5f717b34_e9b2_11eb_bb4f_42010a8a0008row10_col0\" class=\"data row10 col0\" >-0.202635</td>\n",
       "                        <td id=\"T_5f717b34_e9b2_11eb_bb4f_42010a8a0008row10_col1\" class=\"data row10 col1\" >0.019248</td>\n",
       "                        <td id=\"T_5f717b34_e9b2_11eb_bb4f_42010a8a0008row10_col2\" class=\"data row10 col2\" >-0.396038</td>\n",
       "                        <td id=\"T_5f717b34_e9b2_11eb_bb4f_42010a8a0008row10_col3\" class=\"data row10 col3\" >-0.253585</td>\n",
       "                        <td id=\"T_5f717b34_e9b2_11eb_bb4f_42010a8a0008row10_col4\" class=\"data row10 col4\" >0.062163</td>\n",
       "                        <td id=\"T_5f717b34_e9b2_11eb_bb4f_42010a8a0008row10_col5\" class=\"data row10 col5\" >0.196510</td>\n",
       "                        <td id=\"T_5f717b34_e9b2_11eb_bb4f_42010a8a0008row10_col6\" class=\"data row10 col6\" >0.000749</td>\n",
       "                        <td id=\"T_5f717b34_e9b2_11eb_bb4f_42010a8a0008row10_col7\" class=\"data row10 col7\" >0.053670</td>\n",
       "                        <td id=\"T_5f717b34_e9b2_11eb_bb4f_42010a8a0008row10_col8\" class=\"data row10 col8\" >0.035181</td>\n",
       "                        <td id=\"T_5f717b34_e9b2_11eb_bb4f_42010a8a0008row10_col9\" class=\"data row10 col9\" >-0.262933</td>\n",
       "                        <td id=\"T_5f717b34_e9b2_11eb_bb4f_42010a8a0008row10_col10\" class=\"data row10 col10\" >1.000000</td>\n",
       "            </tr>\n",
       "    </tbody></table>"
      ],
      "text/plain": [
       "<pandas.io.formats.style.Styler at 0x7f1c3d400190>"
      ]
     },
     "execution_count": 134,
     "metadata": {},
     "output_type": "execute_result"
    }
   ],
   "source": [
    "# correlation analysis.\n",
    "from matplotlib.colors import ListedColormap\n",
    "my_cmap = ListedColormap(sns.light_palette((250, 100, 50), input=\"husl\", n_colors=50).as_hex())\n",
    "table = df_model[df_model['part']==\"Train\"][['isFraud', 'amount', 'oldbalanceOrig', 'newbalanceOrig', 'oldbalanceDest', 'newbalanceDest',\n",
    "           'origCnt', 'destCnt', 'origzeroFlg', 'destzeroFlg', 'amountDiff']].corr(method='pearson')\n",
    "table.style.background_gradient(cmap=my_cmap, axis = 0)"
   ]
  },
  {
   "cell_type": "markdown",
   "metadata": {},
   "source": [
    "**The variables \"newbalanceDest\" and \"oldalanceDest\" are highly correlated so we may keep only one of them as input in the supervised models. Since the correlation of \"oldbalanceDest\" and \"isFraud\" flag is higher, we decide to keep that variable.**"
   ]
  },
  {
   "cell_type": "code",
   "execution_count": 175,
   "metadata": {},
   "outputs": [
    {
     "name": "stdout",
     "output_type": "stream",
     "text": [
      "Train size (227194, 17)\n",
      "Test size  (56211, 17)\n"
     ]
    }
   ],
   "source": [
    "print(\"Train size\", df_model[df_model['part']==\"Train\"].shape)\n",
    "print(\"Test size \", df_model[df_model['part']==\"Test\"].shape)"
   ]
  },
  {
   "cell_type": "markdown",
   "metadata": {},
   "source": [
    "**Write the dataframes to BigQuery as train and test tables.**"
   ]
  },
  {
   "cell_type": "code",
   "execution_count": 111,
   "metadata": {},
   "outputs": [
    {
     "name": "stderr",
     "output_type": "stream",
     "text": [
      "1it [00:38, 38.43s/it]\n",
      "1it [00:13, 13.49s/it]\n"
     ]
    }
   ],
   "source": [
    "# write dataframes to bigquery tables using BQ client.\n",
    "df_model[df_model['part']==\"Train\"].to_gbq('fraud_demo.fraud_train', project_id= str(PROJECT_ID), if_exists='replace')\n",
    "df_model[df_model['part']==\"Test\"].to_gbq('fraud_demo.fraud_test', project_id= str(PROJECT_ID), if_exists='replace')"
   ]
  },
  {
   "cell_type": "markdown",
   "metadata": {},
   "source": [
    "## **05. Build unsupervised model using k-means in BigQuery ML** "
   ]
  },
  {
   "cell_type": "markdown",
   "metadata": {},
   "source": [
    "#### See the parameters for kmeans model in BigQuery ML: </br> https://cloud.google.com/bigquery-ml/docs/reference/standard-sql/bigqueryml-syntax-create-kmeans#create_model_statement"
   ]
  },
  {
   "cell_type": "code",
   "execution_count": 153,
   "metadata": {},
   "outputs": [
    {
     "name": "stdout",
     "output_type": "stream",
     "text": [
      "Executing query with job ID: 274bad5f-5251-48a3-9913-641cee25dfdb\n",
      "Query executing: 81.25s\n",
      "Query complete after 81.66s\n"
     ]
    },
    {
     "data": {
      "text/html": [
       "<div>\n",
       "<style scoped>\n",
       "    .dataframe tbody tr th:only-of-type {\n",
       "        vertical-align: middle;\n",
       "    }\n",
       "\n",
       "    .dataframe tbody tr th {\n",
       "        vertical-align: top;\n",
       "    }\n",
       "\n",
       "    .dataframe thead th {\n",
       "        text-align: right;\n",
       "    }\n",
       "</style>\n",
       "<table border=\"1\" class=\"dataframe\">\n",
       "  <thead>\n",
       "    <tr style=\"text-align: right;\">\n",
       "      <th></th>\n",
       "      <th>davies_bouldin_index</th>\n",
       "      <th>mean_squared_distance</th>\n",
       "    </tr>\n",
       "  </thead>\n",
       "  <tbody>\n",
       "    <tr>\n",
       "      <th>0</th>\n",
       "      <td>0.759019</td>\n",
       "      <td>6.141867</td>\n",
       "    </tr>\n",
       "  </tbody>\n",
       "</table>\n",
       "</div>"
      ],
      "text/plain": [
       "   davies_bouldin_index  mean_squared_distance\n",
       "0              0.759019               6.141867"
      ]
     },
     "execution_count": 153,
     "metadata": {},
     "output_type": "execute_result"
    }
   ],
   "source": [
    "%%bigquery --verbose\n",
    "#create unsupervised model for fraud detection;\n",
    "CREATE OR REPLACE MODEL\n",
    "  fraud_demo.model_unsupervised OPTIONS(model_type='kmeans', kmeans_init_method = \"kmeans++\", num_clusters=7, standardize_features=true) AS \n",
    "    SELECT * EXCEPT (id, isFraud, nameOrig, nameDest, part)\n",
    "    FROM\n",
    "    `fraud_demo.fraud_train`;\n",
    "\n",
    "select *\n",
    "from ML.EVALUATE(MODEL `fraud_demo.model_unsupervised`);"
   ]
  },
  {
   "attachments": {
    "image.png": {
     "image/png": "[encoded data removed]"
    }
   },
   "cell_type": "markdown",
   "metadata": {},
   "source": [
    "![image.png](attachment:image.png)"
   ]
  },
  {
   "cell_type": "markdown",
   "metadata": {},
   "source": [
    "**Check the number of fraud flags within in cluster in the test data.**"
   ]
  },
  {
   "cell_type": "code",
   "execution_count": 201,
   "metadata": {},
   "outputs": [
    {
     "name": "stdout",
     "output_type": "stream",
     "text": [
      "Executing query with job ID: fe0650f8-a63b-4bd0-a5bc-46781291b8d0\n",
      "Query executing: 26.35s\n",
      "Query complete after 26.59s\n"
     ]
    },
    {
     "data": {
      "text/html": [
       "<div>\n",
       "<style scoped>\n",
       "    .dataframe tbody tr th:only-of-type {\n",
       "        vertical-align: middle;\n",
       "    }\n",
       "\n",
       "    .dataframe tbody tr th {\n",
       "        vertical-align: top;\n",
       "    }\n",
       "\n",
       "    .dataframe thead th {\n",
       "        text-align: right;\n",
       "    }\n",
       "</style>\n",
       "<table border=\"1\" class=\"dataframe\">\n",
       "  <thead>\n",
       "    <tr style=\"text-align: right;\">\n",
       "      <th></th>\n",
       "      <th>centroid_id</th>\n",
       "      <th>sum</th>\n",
       "      <th>cnt</th>\n",
       "    </tr>\n",
       "  </thead>\n",
       "  <tbody>\n",
       "    <tr>\n",
       "      <th>0</th>\n",
       "      <td>1</td>\n",
       "      <td>258</td>\n",
       "      <td>296</td>\n",
       "    </tr>\n",
       "    <tr>\n",
       "      <th>1</th>\n",
       "      <td>2</td>\n",
       "      <td>1383</td>\n",
       "      <td>55781</td>\n",
       "    </tr>\n",
       "    <tr>\n",
       "      <th>2</th>\n",
       "      <td>3</td>\n",
       "      <td>6</td>\n",
       "      <td>7</td>\n",
       "    </tr>\n",
       "    <tr>\n",
       "      <th>3</th>\n",
       "      <td>4</td>\n",
       "      <td>0</td>\n",
       "      <td>6</td>\n",
       "    </tr>\n",
       "    <tr>\n",
       "      <th>4</th>\n",
       "      <td>5</td>\n",
       "      <td>0</td>\n",
       "      <td>89</td>\n",
       "    </tr>\n",
       "    <tr>\n",
       "      <th>5</th>\n",
       "      <td>6</td>\n",
       "      <td>0</td>\n",
       "      <td>25</td>\n",
       "    </tr>\n",
       "    <tr>\n",
       "      <th>6</th>\n",
       "      <td>7</td>\n",
       "      <td>7</td>\n",
       "      <td>7</td>\n",
       "    </tr>\n",
       "  </tbody>\n",
       "</table>\n",
       "</div>"
      ],
      "text/plain": [
       "   centroid_id   sum    cnt\n",
       "0            1   258    296\n",
       "1            2  1383  55781\n",
       "2            3     6      7\n",
       "3            4     0      6\n",
       "4            5     0     89\n",
       "5            6     0     25\n",
       "6            7     7      7"
      ]
     },
     "execution_count": 201,
     "metadata": {},
     "output_type": "execute_result"
    }
   ],
   "source": [
    "%%bigquery --verbose\n",
    "#test the model on a test data;\n",
    "SELECT\n",
    "  centroid_id, sum(isFraud) as sum,  count(*) cnt\n",
    "FROM\n",
    "  ML.PREDICT(MODEL `fraud_demo.model_unsupervised`,\n",
    "    (\n",
    "    SELECT *\n",
    "    FROM  `fraud_demo.fraud_test`))\n",
    "group by centroid_id\n",
    "order by centroid_id;"
   ]
  },
  {
   "cell_type": "markdown",
   "metadata": {},
   "source": [
    "**Detect anomalies within each cluster in BQML.** </br>\n",
    "    https://cloud.google.com/blog/products/data-analytics/how-to-use-bigquery-ml-for-anomaly-detection"
   ]
  },
  {
   "cell_type": "code",
   "execution_count": 202,
   "metadata": {},
   "outputs": [
    {
     "name": "stdout",
     "output_type": "stream",
     "text": [
      "Executing query with job ID: 26df8223-2b63-4bc2-94fe-944c536d4702\n",
      "Query executing: 4.81s\n",
      "Query complete after 5.02s\n"
     ]
    },
    {
     "data": {
      "text/html": [
       "<div>\n",
       "<style scoped>\n",
       "    .dataframe tbody tr th:only-of-type {\n",
       "        vertical-align: middle;\n",
       "    }\n",
       "\n",
       "    .dataframe tbody tr th {\n",
       "        vertical-align: top;\n",
       "    }\n",
       "\n",
       "    .dataframe thead th {\n",
       "        text-align: right;\n",
       "    }\n",
       "</style>\n",
       "<table border=\"1\" class=\"dataframe\">\n",
       "  <thead>\n",
       "    <tr style=\"text-align: right;\">\n",
       "      <th></th>\n",
       "      <th>centroid_id</th>\n",
       "      <th>sum</th>\n",
       "      <th>cnt</th>\n",
       "    </tr>\n",
       "  </thead>\n",
       "  <tbody>\n",
       "    <tr>\n",
       "      <th>0</th>\n",
       "      <td>1</td>\n",
       "      <td>1131</td>\n",
       "      <td>2655</td>\n",
       "    </tr>\n",
       "    <tr>\n",
       "      <th>1</th>\n",
       "      <td>2</td>\n",
       "      <td>465</td>\n",
       "      <td>49090</td>\n",
       "    </tr>\n",
       "    <tr>\n",
       "      <th>2</th>\n",
       "      <td>3</td>\n",
       "      <td>6</td>\n",
       "      <td>7</td>\n",
       "    </tr>\n",
       "    <tr>\n",
       "      <th>3</th>\n",
       "      <td>4</td>\n",
       "      <td>0</td>\n",
       "      <td>6</td>\n",
       "    </tr>\n",
       "    <tr>\n",
       "      <th>4</th>\n",
       "      <td>5</td>\n",
       "      <td>42</td>\n",
       "      <td>4410</td>\n",
       "    </tr>\n",
       "    <tr>\n",
       "      <th>5</th>\n",
       "      <td>6</td>\n",
       "      <td>0</td>\n",
       "      <td>33</td>\n",
       "    </tr>\n",
       "    <tr>\n",
       "      <th>6</th>\n",
       "      <td>7</td>\n",
       "      <td>10</td>\n",
       "      <td>10</td>\n",
       "    </tr>\n",
       "  </tbody>\n",
       "</table>\n",
       "</div>"
      ],
      "text/plain": [
       "   centroid_id   sum    cnt\n",
       "0            1  1131   2655\n",
       "1            2   465  49090\n",
       "2            3     6      7\n",
       "3            4     0      6\n",
       "4            5    42   4410\n",
       "5            6     0     33\n",
       "6            7    10     10"
      ]
     },
     "execution_count": 202,
     "metadata": {},
     "output_type": "execute_result"
    }
   ],
   "source": [
    "%%bigquery --verbose\n",
    "#test the model on a test data;\n",
    "SELECT\n",
    "  centroid_id, sum(isfraud) as sum,  count(*) cnt\n",
    "FROM\n",
    "  ML.DETECT_ANOMALIES(MODEL `fraud_demo.model_unsupervised`, struct(0.2 as contamination),\n",
    "    (\n",
    "    SELECT *\n",
    "    FROM  `fraud_demo.fraud_test`))\n",
    "group by centroid_id\n",
    "order by centroid_id"
   ]
  },
  {
   "cell_type": "markdown",
   "metadata": {},
   "source": [
    "**Centroid ID: 1, 3 and 7 are the segments that we would pay attention for fraudulent activities in the production data.**"
   ]
  },
  {
   "cell_type": "markdown",
   "metadata": {},
   "source": [
    "##  **06. Build supervised model using BigQuery ML**  \n",
    "https://cloud.google.com/bigquery-ml/docs/reference/standard-sql/bigqueryml-syntax-create"
   ]
  },
  {
   "cell_type": "code",
   "execution_count": 147,
   "metadata": {},
   "outputs": [
    {
     "name": "stdout",
     "output_type": "stream",
     "text": [
      "Executing query with job ID: 96cca1a6-0b42-480f-a338-b092f766408a\n",
      "Query executing: 144.47s\n",
      "Query complete after 145.23s\n"
     ]
    },
    {
     "data": {
      "text/html": [
       "<div>\n",
       "<style scoped>\n",
       "    .dataframe tbody tr th:only-of-type {\n",
       "        vertical-align: middle;\n",
       "    }\n",
       "\n",
       "    .dataframe tbody tr th {\n",
       "        vertical-align: top;\n",
       "    }\n",
       "\n",
       "    .dataframe thead th {\n",
       "        text-align: right;\n",
       "    }\n",
       "</style>\n",
       "<table border=\"1\" class=\"dataframe\">\n",
       "  <thead>\n",
       "    <tr style=\"text-align: right;\">\n",
       "      <th></th>\n",
       "    </tr>\n",
       "  </thead>\n",
       "  <tbody>\n",
       "  </tbody>\n",
       "</table>\n",
       "</div>"
      ],
      "text/plain": [
       "Empty DataFrame\n",
       "Columns: []\n",
       "Index: []"
      ]
     },
     "execution_count": 147,
     "metadata": {},
     "output_type": "execute_result"
    }
   ],
   "source": [
    "%%bigquery --verbose\n",
    "CREATE OR REPLACE MODEL `fraud_demo.model_fraud_reg`\n",
    " OPTIONS(MODEL_TYPE='LOGISTIC_REG', INPUT_LABEL_COLS = [\"isFraud\"], SUBSAMPLE=0.8) \n",
    "AS SELECT\n",
    "  * EXCEPT (id, nameOrig, nameDest, part, step)\n",
    "FROM `fraud_demo.fraud_train`"
   ]
  },
  {
   "cell_type": "code",
   "execution_count": 148,
   "metadata": {},
   "outputs": [
    {
     "data": {
      "text/html": [
       "<div>\n",
       "<style scoped>\n",
       "    .dataframe tbody tr th:only-of-type {\n",
       "        vertical-align: middle;\n",
       "    }\n",
       "\n",
       "    .dataframe tbody tr th {\n",
       "        vertical-align: top;\n",
       "    }\n",
       "\n",
       "    .dataframe thead th {\n",
       "        text-align: right;\n",
       "    }\n",
       "</style>\n",
       "<table border=\"1\" class=\"dataframe\">\n",
       "  <thead>\n",
       "    <tr style=\"text-align: right;\">\n",
       "      <th></th>\n",
       "      <th>precision</th>\n",
       "      <th>recall</th>\n",
       "      <th>accuracy</th>\n",
       "      <th>f1_score</th>\n",
       "      <th>log_loss</th>\n",
       "      <th>roc_auc</th>\n",
       "    </tr>\n",
       "  </thead>\n",
       "  <tbody>\n",
       "    <tr>\n",
       "      <th>0</th>\n",
       "      <td>0.879581</td>\n",
       "      <td>0.57732</td>\n",
       "      <td>0.985522</td>\n",
       "      <td>0.697095</td>\n",
       "      <td>0.060833</td>\n",
       "      <td>0.950393</td>\n",
       "    </tr>\n",
       "  </tbody>\n",
       "</table>\n",
       "</div>"
      ],
      "text/plain": [
       "   precision   recall  accuracy  f1_score  log_loss   roc_auc\n",
       "0   0.879581  0.57732  0.985522  0.697095  0.060833  0.950393"
      ]
     },
     "execution_count": 148,
     "metadata": {},
     "output_type": "execute_result"
    }
   ],
   "source": [
    "%%bigquery\n",
    "SELECT * \n",
    "FROM ML.EVALUATE(MODEL fraud_demo.model_fraud_reg)"
   ]
  },
  {
   "cell_type": "code",
   "execution_count": 151,
   "metadata": {},
   "outputs": [
    {
     "name": "stdout",
     "output_type": "stream",
     "text": [
      "Executing query with job ID: 335fa7dc-ccdc-4ed6-ac90-d3521f34e435\n",
      "Query executing: 427.82s\n",
      "Query complete after 428.24s\n"
     ]
    },
    {
     "data": {
      "text/html": [
       "<div>\n",
       "<style scoped>\n",
       "    .dataframe tbody tr th:only-of-type {\n",
       "        vertical-align: middle;\n",
       "    }\n",
       "\n",
       "    .dataframe tbody tr th {\n",
       "        vertical-align: top;\n",
       "    }\n",
       "\n",
       "    .dataframe thead th {\n",
       "        text-align: right;\n",
       "    }\n",
       "</style>\n",
       "<table border=\"1\" class=\"dataframe\">\n",
       "  <thead>\n",
       "    <tr style=\"text-align: right;\">\n",
       "      <th></th>\n",
       "    </tr>\n",
       "  </thead>\n",
       "  <tbody>\n",
       "  </tbody>\n",
       "</table>\n",
       "</div>"
      ],
      "text/plain": [
       "Empty DataFrame\n",
       "Columns: []\n",
       "Index: []"
      ]
     },
     "execution_count": 151,
     "metadata": {},
     "output_type": "execute_result"
    }
   ],
   "source": [
    "%%bigquery --verbose\n",
    "CREATE OR REPLACE MODEL `fraud_demo.model_fraud_btree`\n",
    " OPTIONS(MODEL_TYPE='BOOSTED_TREE_CLASSIFIER',INPUT_LABEL_COLS = [\"isFraud\"], SUBSAMPLE=0.8) \n",
    "AS SELECT\n",
    "  * EXCEPT (id, nameOrig, nameDest, part, step)\n",
    "FROM `fraud_demo.fraud_train`"
   ]
  },
  {
   "cell_type": "code",
   "execution_count": 150,
   "metadata": {},
   "outputs": [
    {
     "data": {
      "text/html": [
       "<div>\n",
       "<style scoped>\n",
       "    .dataframe tbody tr th:only-of-type {\n",
       "        vertical-align: middle;\n",
       "    }\n",
       "\n",
       "    .dataframe tbody tr th {\n",
       "        vertical-align: top;\n",
       "    }\n",
       "\n",
       "    .dataframe thead th {\n",
       "        text-align: right;\n",
       "    }\n",
       "</style>\n",
       "<table border=\"1\" class=\"dataframe\">\n",
       "  <thead>\n",
       "    <tr style=\"text-align: right;\">\n",
       "      <th></th>\n",
       "      <th>precision</th>\n",
       "      <th>recall</th>\n",
       "      <th>accuracy</th>\n",
       "      <th>f1_score</th>\n",
       "      <th>log_loss</th>\n",
       "      <th>roc_auc</th>\n",
       "    </tr>\n",
       "  </thead>\n",
       "  <tbody>\n",
       "    <tr>\n",
       "      <th>0</th>\n",
       "      <td>0.973485</td>\n",
       "      <td>0.914591</td>\n",
       "      <td>0.996876</td>\n",
       "      <td>0.943119</td>\n",
       "      <td>0.011003</td>\n",
       "      <td>0.999975</td>\n",
       "    </tr>\n",
       "  </tbody>\n",
       "</table>\n",
       "</div>"
      ],
      "text/plain": [
       "   precision    recall  accuracy  f1_score  log_loss   roc_auc\n",
       "0   0.973485  0.914591  0.996876  0.943119  0.011003  0.999975"
      ]
     },
     "execution_count": 150,
     "metadata": {},
     "output_type": "execute_result"
    }
   ],
   "source": [
    "%%bigquery\n",
    "SELECT * \n",
    "FROM ML.EVALUATE(MODEL fraud_demo.model_fraud_btree)"
   ]
  },
  {
   "cell_type": "markdown",
   "metadata": {},
   "source": [
    "**For now, skip this step and use Vertex Tables GUI to create an AutoML model on fraud_train data.**"
   ]
  },
  {
   "cell_type": "code",
   "execution_count": 180,
   "metadata": {},
   "outputs": [],
   "source": [
    "#%%bigquery --verbose\n",
    "#CREATE OR REPLACE MODEL `fraud_demo.model_fraud_automl`\n",
    "#OPTIONS(MODEL_TYPE = 'AUTOML_CLASSIFIER' ,\n",
    "#        BUDGET_HOURS = 1.0,\n",
    "#        INPUT_LABEL_COLS = [\"isFraud\"])\n",
    "#as select\n",
    "#  * EXCEPT (id, nameOrig, nameDest, part, step)\n",
    "#FROM `fraud_demo.fraud_train`"
   ]
  },
  {
   "attachments": {
    "image.png": {
     "image/png": "[encoded data removed]"
    }
   },
   "cell_type": "markdown",
   "metadata": {},
   "source": [
    "![image.png](attachment:image.png)"
   ]
  },
  {
   "attachments": {
    "image.png": {
     "image/png": "[encoded data removed]"
    }
   },
   "cell_type": "markdown",
   "metadata": {},
   "source": [
    "![image.png](attachment:image.png)"
   ]
  },
  {
   "cell_type": "markdown",
   "metadata": {},
   "source": [
    "## **07. Batch prediction** "
   ]
  },
  {
   "cell_type": "code",
   "execution_count": 209,
   "metadata": {},
   "outputs": [
    {
     "name": "stdout",
     "output_type": "stream",
     "text": [
      "Executing query with job ID: 80e3724a-129f-48e5-a41e-ad2e86cb699c\n",
      "Query executing: 50.29s\n",
      "Query complete after 50.74s\n"
     ]
    }
   ],
   "source": [
    "%%bigquery fraud_supervised --verbose\n",
    "# Predict the likelihood on new data.\n",
    "SELECT id, isFraud, p.prob as score\n",
    "FROM\n",
    "  ML.PREDICT(MODEL `fraud_demo.model_fraud_btree`, \n",
    "  (SELECT * FROM\n",
    "  `fraud_demo.fraud_test` \n",
    "  )\n",
    ")\n",
    ", unnest(predicted_isFraud_probs) as p\n",
    "where p.label = 1\n",
    "order by p.prob desc"
   ]
  },
  {
   "cell_type": "code",
   "execution_count": 213,
   "metadata": {},
   "outputs": [
    {
     "name": "stdout",
     "output_type": "stream",
     "text": [
      "Executing query with job ID: 4f8077c9-452b-4bca-a1b9-42e169bfdfcf\n",
      "Query executing: 27.51s\n",
      "Query complete after 27.90s\n"
     ]
    }
   ],
   "source": [
    "%%bigquery fraud_unsupervised --verbose\n",
    "SELECT\n",
    "  id, centroid_id, is_anomaly\n",
    "FROM\n",
    "  ML.DETECT_ANOMALIES(MODEL `fraud_demo.model_unsupervised`, struct(0.2 as contamination),\n",
    "    (\n",
    "    SELECT *\n",
    "    FROM  `fraud_demo.fraud_test`))\n",
    "where centroid_id in (1,3,7)"
   ]
  },
  {
   "cell_type": "markdown",
   "metadata": {},
   "source": [
    "## **08. Combining supervised and unsupervised model results for a hybrid decision** "
   ]
  },
  {
   "cell_type": "code",
   "execution_count": 215,
   "metadata": {},
   "outputs": [],
   "source": [
    "result_hybrid = fraud_supervised.merge(fraud_unsupervised, how='left', on='id')"
   ]
  },
  {
   "cell_type": "code",
   "execution_count": 216,
   "metadata": {},
   "outputs": [
    {
     "data": {
      "text/html": [
       "<div>\n",
       "<style scoped>\n",
       "    .dataframe tbody tr th:only-of-type {\n",
       "        vertical-align: middle;\n",
       "    }\n",
       "\n",
       "    .dataframe tbody tr th {\n",
       "        vertical-align: top;\n",
       "    }\n",
       "\n",
       "    .dataframe thead th {\n",
       "        text-align: right;\n",
       "    }\n",
       "</style>\n",
       "<table border=\"1\" class=\"dataframe\">\n",
       "  <thead>\n",
       "    <tr style=\"text-align: right;\">\n",
       "      <th></th>\n",
       "      <th>id</th>\n",
       "      <th>isFraud</th>\n",
       "      <th>score</th>\n",
       "      <th>centroid_id</th>\n",
       "      <th>is_anomaly</th>\n",
       "    </tr>\n",
       "  </thead>\n",
       "  <tbody>\n",
       "    <tr>\n",
       "      <th>0</th>\n",
       "      <td>2f284b85-b8a4-4187-95ad-ddb3fdd49970</td>\n",
       "      <td>1</td>\n",
       "      <td>0.997826</td>\n",
       "      <td>1.0</td>\n",
       "      <td>True</td>\n",
       "    </tr>\n",
       "    <tr>\n",
       "      <th>1</th>\n",
       "      <td>10233cf3-3728-4a17-a9f4-29dba08417f9</td>\n",
       "      <td>1</td>\n",
       "      <td>0.997826</td>\n",
       "      <td>1.0</td>\n",
       "      <td>True</td>\n",
       "    </tr>\n",
       "    <tr>\n",
       "      <th>2</th>\n",
       "      <td>1e30e837-b092-432b-ab5f-e004032ebbe4</td>\n",
       "      <td>1</td>\n",
       "      <td>0.997382</td>\n",
       "      <td>1.0</td>\n",
       "      <td>True</td>\n",
       "    </tr>\n",
       "    <tr>\n",
       "      <th>3</th>\n",
       "      <td>0fef7d54-ed41-4e54-8178-915af17eeebe</td>\n",
       "      <td>1</td>\n",
       "      <td>0.996899</td>\n",
       "      <td>1.0</td>\n",
       "      <td>True</td>\n",
       "    </tr>\n",
       "    <tr>\n",
       "      <th>4</th>\n",
       "      <td>1cf6a930-2d36-4b3f-ae3c-d5df5de1f211</td>\n",
       "      <td>1</td>\n",
       "      <td>0.996424</td>\n",
       "      <td>1.0</td>\n",
       "      <td>True</td>\n",
       "    </tr>\n",
       "    <tr>\n",
       "      <th>...</th>\n",
       "      <td>...</td>\n",
       "      <td>...</td>\n",
       "      <td>...</td>\n",
       "      <td>...</td>\n",
       "      <td>...</td>\n",
       "    </tr>\n",
       "    <tr>\n",
       "      <th>56206</th>\n",
       "      <td>62c3eaa2-5aba-4210-a41c-a30757ec3fe3</td>\n",
       "      <td>0</td>\n",
       "      <td>0.001028</td>\n",
       "      <td>NaN</td>\n",
       "      <td>NaN</td>\n",
       "    </tr>\n",
       "    <tr>\n",
       "      <th>56207</th>\n",
       "      <td>9ad3aebe-bdc0-4d79-8311-0bb731dc0f2e</td>\n",
       "      <td>0</td>\n",
       "      <td>0.001020</td>\n",
       "      <td>NaN</td>\n",
       "      <td>NaN</td>\n",
       "    </tr>\n",
       "    <tr>\n",
       "      <th>56208</th>\n",
       "      <td>919270ba-1fd1-44fe-a5b0-53f81b8bb725</td>\n",
       "      <td>0</td>\n",
       "      <td>0.001015</td>\n",
       "      <td>NaN</td>\n",
       "      <td>NaN</td>\n",
       "    </tr>\n",
       "    <tr>\n",
       "      <th>56209</th>\n",
       "      <td>af880822-6bf5-4128-89d9-2f301d25e45e</td>\n",
       "      <td>0</td>\n",
       "      <td>0.001014</td>\n",
       "      <td>NaN</td>\n",
       "      <td>NaN</td>\n",
       "    </tr>\n",
       "    <tr>\n",
       "      <th>56210</th>\n",
       "      <td>f5be4367-79ea-4d48-a7b7-d5a8ce56a32d</td>\n",
       "      <td>0</td>\n",
       "      <td>0.000902</td>\n",
       "      <td>1.0</td>\n",
       "      <td>True</td>\n",
       "    </tr>\n",
       "  </tbody>\n",
       "</table>\n",
       "<p>56211 rows × 5 columns</p>\n",
       "</div>"
      ],
      "text/plain": [
       "                                         id  isFraud     score  centroid_id  \\\n",
       "0      2f284b85-b8a4-4187-95ad-ddb3fdd49970        1  0.997826          1.0   \n",
       "1      10233cf3-3728-4a17-a9f4-29dba08417f9        1  0.997826          1.0   \n",
       "2      1e30e837-b092-432b-ab5f-e004032ebbe4        1  0.997382          1.0   \n",
       "3      0fef7d54-ed41-4e54-8178-915af17eeebe        1  0.996899          1.0   \n",
       "4      1cf6a930-2d36-4b3f-ae3c-d5df5de1f211        1  0.996424          1.0   \n",
       "...                                     ...      ...       ...          ...   \n",
       "56206  62c3eaa2-5aba-4210-a41c-a30757ec3fe3        0  0.001028          NaN   \n",
       "56207  9ad3aebe-bdc0-4d79-8311-0bb731dc0f2e        0  0.001020          NaN   \n",
       "56208  919270ba-1fd1-44fe-a5b0-53f81b8bb725        0  0.001015          NaN   \n",
       "56209  af880822-6bf5-4128-89d9-2f301d25e45e        0  0.001014          NaN   \n",
       "56210  f5be4367-79ea-4d48-a7b7-d5a8ce56a32d        0  0.000902          1.0   \n",
       "\n",
       "      is_anomaly  \n",
       "0           True  \n",
       "1           True  \n",
       "2           True  \n",
       "3           True  \n",
       "4           True  \n",
       "...          ...  \n",
       "56206        NaN  \n",
       "56207        NaN  \n",
       "56208        NaN  \n",
       "56209        NaN  \n",
       "56210       True  \n",
       "\n",
       "[56211 rows x 5 columns]"
      ]
     },
     "execution_count": 216,
     "metadata": {},
     "output_type": "execute_result"
    }
   ],
   "source": [
    "result_hybrid"
   ]
  },
  {
   "cell_type": "code",
   "execution_count": 217,
   "metadata": {},
   "outputs": [
    {
     "data": {
      "text/plain": [
       "0    54557\n",
       "1     1654\n",
       "Name: isFraud, dtype: int64"
      ]
     },
     "execution_count": 217,
     "metadata": {},
     "output_type": "execute_result"
    }
   ],
   "source": [
    "result_hybrid[\"isFraud\"].value_counts()"
   ]
  },
  {
   "cell_type": "code",
   "execution_count": 254,
   "metadata": {},
   "outputs": [
    {
     "data": {
      "text/plain": [
       "1    1490\n",
       "0      81\n",
       "Name: isFraud, dtype: int64"
      ]
     },
     "execution_count": 254,
     "metadata": {},
     "output_type": "execute_result"
    }
   ],
   "source": [
    "result_hybrid[result_hybrid.score >.4]['isFraud'].value_counts()"
   ]
  },
  {
   "cell_type": "code",
   "execution_count": 237,
   "metadata": {},
   "outputs": [
    {
     "data": {
      "text/plain": [
       "0    1524\n",
       "1    1131\n",
       "Name: isFraud, dtype: int64"
      ]
     },
     "execution_count": 237,
     "metadata": {},
     "output_type": "execute_result"
    }
   ],
   "source": [
    "result_hybrid[result_hybrid.centroid_id == 1.0]['isFraud'].value_counts()"
   ]
  },
  {
   "cell_type": "code",
   "execution_count": 238,
   "metadata": {},
   "outputs": [
    {
     "data": {
      "text/plain": [
       "1    6\n",
       "0    1\n",
       "Name: isFraud, dtype: int64"
      ]
     },
     "execution_count": 238,
     "metadata": {},
     "output_type": "execute_result"
    }
   ],
   "source": [
    "result_hybrid[result_hybrid.centroid_id == 3.0]['isFraud'].value_counts()"
   ]
  },
  {
   "cell_type": "code",
   "execution_count": 239,
   "metadata": {},
   "outputs": [
    {
     "data": {
      "text/plain": [
       "1    10\n",
       "Name: isFraud, dtype: int64"
      ]
     },
     "execution_count": 239,
     "metadata": {},
     "output_type": "execute_result"
    }
   ],
   "source": [
    "result_hybrid[result_hybrid.centroid_id == 7.0]['isFraud'].value_counts()"
   ]
  },
  {
   "cell_type": "markdown",
   "metadata": {},
   "source": [
    "**Tracking \"false negatives\" : Check the transactions that have low prediction score in supervised model but classified in outlier segments in unsupervised model.**"
   ]
  },
  {
   "cell_type": "code",
   "execution_count": 256,
   "metadata": {},
   "outputs": [
    {
     "name": "stderr",
     "output_type": "stream",
     "text": [
      "/opt/conda/lib/python3.7/site-packages/ipykernel_launcher.py:1: UserWarning: Boolean Series key will be reindexed to match DataFrame index.\n",
      "  \"\"\"Entry point for launching an IPython kernel.\n",
      "/opt/conda/lib/python3.7/site-packages/ipykernel_launcher.py:1: UserWarning: Boolean Series key will be reindexed to match DataFrame index.\n",
      "  \"\"\"Entry point for launching an IPython kernel.\n"
     ]
    },
    {
     "data": {
      "text/html": [
       "<div>\n",
       "<style scoped>\n",
       "    .dataframe tbody tr th:only-of-type {\n",
       "        vertical-align: middle;\n",
       "    }\n",
       "\n",
       "    .dataframe tbody tr th {\n",
       "        vertical-align: top;\n",
       "    }\n",
       "\n",
       "    .dataframe thead th {\n",
       "        text-align: right;\n",
       "    }\n",
       "</style>\n",
       "<table border=\"1\" class=\"dataframe\">\n",
       "  <thead>\n",
       "    <tr style=\"text-align: right;\">\n",
       "      <th></th>\n",
       "      <th>id</th>\n",
       "      <th>isFraud</th>\n",
       "      <th>score</th>\n",
       "      <th>centroid_id</th>\n",
       "      <th>is_anomaly</th>\n",
       "    </tr>\n",
       "  </thead>\n",
       "  <tbody>\n",
       "    <tr>\n",
       "      <th>1591</th>\n",
       "      <td>2d91db9c-2d29-4dfd-98ec-ba440aec14f4</td>\n",
       "      <td>1</td>\n",
       "      <td>0.388154</td>\n",
       "      <td>1.0</td>\n",
       "      <td>True</td>\n",
       "    </tr>\n",
       "    <tr>\n",
       "      <th>1596</th>\n",
       "      <td>4b61fdf4-7f3b-4b8f-bcb0-12adb518ab63</td>\n",
       "      <td>1</td>\n",
       "      <td>0.383449</td>\n",
       "      <td>1.0</td>\n",
       "      <td>True</td>\n",
       "    </tr>\n",
       "    <tr>\n",
       "      <th>1601</th>\n",
       "      <td>99a260f5-c629-459b-a011-abb3d7e0796b</td>\n",
       "      <td>1</td>\n",
       "      <td>0.379993</td>\n",
       "      <td>1.0</td>\n",
       "      <td>True</td>\n",
       "    </tr>\n",
       "    <tr>\n",
       "      <th>1614</th>\n",
       "      <td>16696b68-28a4-4cd0-b972-9ac5dfa319b4</td>\n",
       "      <td>0</td>\n",
       "      <td>0.372311</td>\n",
       "      <td>1.0</td>\n",
       "      <td>True</td>\n",
       "    </tr>\n",
       "    <tr>\n",
       "      <th>1622</th>\n",
       "      <td>f2424f1c-b910-4f3c-87f1-be44bb64bad9</td>\n",
       "      <td>1</td>\n",
       "      <td>0.367952</td>\n",
       "      <td>1.0</td>\n",
       "      <td>True</td>\n",
       "    </tr>\n",
       "    <tr>\n",
       "      <th>1623</th>\n",
       "      <td>63419da7-2031-4efc-b1f8-ba3f686dcb9e</td>\n",
       "      <td>0</td>\n",
       "      <td>0.364341</td>\n",
       "      <td>1.0</td>\n",
       "      <td>True</td>\n",
       "    </tr>\n",
       "    <tr>\n",
       "      <th>1626</th>\n",
       "      <td>3e444f82-18b1-4123-970c-a7c510772218</td>\n",
       "      <td>1</td>\n",
       "      <td>0.363813</td>\n",
       "      <td>1.0</td>\n",
       "      <td>True</td>\n",
       "    </tr>\n",
       "    <tr>\n",
       "      <th>1639</th>\n",
       "      <td>600a617d-4e14-4eb0-bbb8-185e0695d829</td>\n",
       "      <td>1</td>\n",
       "      <td>0.356012</td>\n",
       "      <td>1.0</td>\n",
       "      <td>True</td>\n",
       "    </tr>\n",
       "    <tr>\n",
       "      <th>1646</th>\n",
       "      <td>666d38e6-c895-4bfa-bc99-88c62ab5a7f3</td>\n",
       "      <td>1</td>\n",
       "      <td>0.353354</td>\n",
       "      <td>1.0</td>\n",
       "      <td>True</td>\n",
       "    </tr>\n",
       "    <tr>\n",
       "      <th>1662</th>\n",
       "      <td>1c13c023-557d-4644-a665-a897750a9bb7</td>\n",
       "      <td>1</td>\n",
       "      <td>0.344492</td>\n",
       "      <td>1.0</td>\n",
       "      <td>True</td>\n",
       "    </tr>\n",
       "    <tr>\n",
       "      <th>1663</th>\n",
       "      <td>6c04e275-d833-47ca-ad1c-1a3d5a01c4a8</td>\n",
       "      <td>1</td>\n",
       "      <td>0.344492</td>\n",
       "      <td>1.0</td>\n",
       "      <td>True</td>\n",
       "    </tr>\n",
       "    <tr>\n",
       "      <th>1665</th>\n",
       "      <td>e6f7e07e-7cc3-4f91-b19b-d42224a8a6b2</td>\n",
       "      <td>1</td>\n",
       "      <td>0.342243</td>\n",
       "      <td>1.0</td>\n",
       "      <td>True</td>\n",
       "    </tr>\n",
       "    <tr>\n",
       "      <th>1700</th>\n",
       "      <td>1b5c3929-2324-4a83-a861-34d9d31fc862</td>\n",
       "      <td>1</td>\n",
       "      <td>0.324711</td>\n",
       "      <td>1.0</td>\n",
       "      <td>True</td>\n",
       "    </tr>\n",
       "    <tr>\n",
       "      <th>1723</th>\n",
       "      <td>8546de4d-0494-4bc6-81cf-36be19cd1030</td>\n",
       "      <td>1</td>\n",
       "      <td>0.315962</td>\n",
       "      <td>1.0</td>\n",
       "      <td>True</td>\n",
       "    </tr>\n",
       "    <tr>\n",
       "      <th>1724</th>\n",
       "      <td>2de2e2ea-6527-453f-8224-00ddd5524b7f</td>\n",
       "      <td>1</td>\n",
       "      <td>0.315962</td>\n",
       "      <td>1.0</td>\n",
       "      <td>True</td>\n",
       "    </tr>\n",
       "    <tr>\n",
       "      <th>1730</th>\n",
       "      <td>bc27d120-9ced-482a-8ae3-5f1b1ac41469</td>\n",
       "      <td>1</td>\n",
       "      <td>0.313941</td>\n",
       "      <td>1.0</td>\n",
       "      <td>True</td>\n",
       "    </tr>\n",
       "    <tr>\n",
       "      <th>1733</th>\n",
       "      <td>1b330c87-025c-4faf-9e07-e1a1a840a1c0</td>\n",
       "      <td>1</td>\n",
       "      <td>0.311169</td>\n",
       "      <td>1.0</td>\n",
       "      <td>True</td>\n",
       "    </tr>\n",
       "    <tr>\n",
       "      <th>1737</th>\n",
       "      <td>a8323fa3-7deb-43a3-a73e-554c92506ec3</td>\n",
       "      <td>0</td>\n",
       "      <td>0.305133</td>\n",
       "      <td>1.0</td>\n",
       "      <td>True</td>\n",
       "    </tr>\n",
       "  </tbody>\n",
       "</table>\n",
       "</div>"
      ],
      "text/plain": [
       "                                        id  isFraud     score  centroid_id  \\\n",
       "1591  2d91db9c-2d29-4dfd-98ec-ba440aec14f4        1  0.388154          1.0   \n",
       "1596  4b61fdf4-7f3b-4b8f-bcb0-12adb518ab63        1  0.383449          1.0   \n",
       "1601  99a260f5-c629-459b-a011-abb3d7e0796b        1  0.379993          1.0   \n",
       "1614  16696b68-28a4-4cd0-b972-9ac5dfa319b4        0  0.372311          1.0   \n",
       "1622  f2424f1c-b910-4f3c-87f1-be44bb64bad9        1  0.367952          1.0   \n",
       "1623  63419da7-2031-4efc-b1f8-ba3f686dcb9e        0  0.364341          1.0   \n",
       "1626  3e444f82-18b1-4123-970c-a7c510772218        1  0.363813          1.0   \n",
       "1639  600a617d-4e14-4eb0-bbb8-185e0695d829        1  0.356012          1.0   \n",
       "1646  666d38e6-c895-4bfa-bc99-88c62ab5a7f3        1  0.353354          1.0   \n",
       "1662  1c13c023-557d-4644-a665-a897750a9bb7        1  0.344492          1.0   \n",
       "1663  6c04e275-d833-47ca-ad1c-1a3d5a01c4a8        1  0.344492          1.0   \n",
       "1665  e6f7e07e-7cc3-4f91-b19b-d42224a8a6b2        1  0.342243          1.0   \n",
       "1700  1b5c3929-2324-4a83-a861-34d9d31fc862        1  0.324711          1.0   \n",
       "1723  8546de4d-0494-4bc6-81cf-36be19cd1030        1  0.315962          1.0   \n",
       "1724  2de2e2ea-6527-453f-8224-00ddd5524b7f        1  0.315962          1.0   \n",
       "1730  bc27d120-9ced-482a-8ae3-5f1b1ac41469        1  0.313941          1.0   \n",
       "1733  1b330c87-025c-4faf-9e07-e1a1a840a1c0        1  0.311169          1.0   \n",
       "1737  a8323fa3-7deb-43a3-a73e-554c92506ec3        0  0.305133          1.0   \n",
       "\n",
       "     is_anomaly  \n",
       "1591       True  \n",
       "1596       True  \n",
       "1601       True  \n",
       "1614       True  \n",
       "1622       True  \n",
       "1623       True  \n",
       "1626       True  \n",
       "1639       True  \n",
       "1646       True  \n",
       "1662       True  \n",
       "1663       True  \n",
       "1665       True  \n",
       "1700       True  \n",
       "1723       True  \n",
       "1724       True  \n",
       "1730       True  \n",
       "1733       True  \n",
       "1737       True  "
      ]
     },
     "execution_count": 256,
     "metadata": {},
     "output_type": "execute_result"
    }
   ],
   "source": [
    "result_hybrid[result_hybrid.centroid_id == 1.0][result_hybrid.score < 0.4][result_hybrid.score > 0.3]"
   ]
  },
  {
   "cell_type": "code",
   "execution_count": 240,
   "metadata": {},
   "outputs": [
    {
     "name": "stderr",
     "output_type": "stream",
     "text": [
      "1it [00:07,  7.53s/it]\n"
     ]
    }
   ],
   "source": [
    "result_hybrid.to_gbq('fraud_demo.result_hybrid', project_id= str(PROJECT_ID), if_exists='replace')"
   ]
  },
  {
   "cell_type": "markdown",
   "metadata": {},
   "source": [
    "<font color='green'> **End of file.** </font>"
   ]
  }
 ],
 "metadata": {
  "environment": {
   "name": "tf2-gpu.2-1.m58",
   "type": "gcloud",
   "uri": "gcr.io/deeplearning-platform-release/tf2-gpu.2-1:m58"
  },
  "kernelspec": {
   "display_name": "Python 3",
   "language": "python",
   "name": "python3"
  },
  "language_info": {
   "codemirror_mode": {
    "name": "ipython",
    "version": 3
   },
   "file_extension": ".py",
   "mimetype": "text/x-python",
   "name": "python",
   "nbconvert_exporter": "python",
   "pygments_lexer": "ipython3",
   "version": "3.7.8"
  }
 },
 "nbformat": 4,
 "nbformat_minor": 4
}
