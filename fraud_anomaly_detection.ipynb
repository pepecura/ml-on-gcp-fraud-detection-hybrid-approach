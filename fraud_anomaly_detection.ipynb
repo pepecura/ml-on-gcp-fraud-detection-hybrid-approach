{
 "cells": [
  {
   "cell_type": "markdown",
   "metadata": {},
   "source": [
    "# **Fraud Detection in Financial Transactions** \n",
    "In this notebook, we will work on a simulated **transactions** data for **fraud detection**. We will start with the analysis of fraud and create new features, then run machine learning models with **BigQuery ML** and **Vertex Tables** and evaluate the performance. Finally we will run the ML model to score a test dataset and export the predictions to BigQuery to take actions. <br>\n",
    "The public data used in the exercise is downloaded from the Kaggle website: <br>\n",
    "https://www.kaggle.com/ealaxi/paysim1 <br> "
   ]
  },
  {
   "cell_type": "markdown",
   "metadata": {},
   "source": [
    "<br>**Import the required libraries**"
   ]
  },
  {
   "cell_type": "code",
   "execution_count": 1,
   "metadata": {},
   "outputs": [],
   "source": [
    "import numpy as np\n",
    "import pandas as pd\n",
    "import seaborn as sns\n",
    "import matplotlib.pyplot as plt"
   ]
  },
  {
   "cell_type": "markdown",
   "metadata": {},
   "source": [
    "##  **1. Download data** "
   ]
  },
  {
   "cell_type": "code",
   "execution_count": 2,
   "metadata": {},
   "outputs": [],
   "source": [
    "!pip install --quiet kaggle"
   ]
  },
  {
   "cell_type": "code",
   "execution_count": 3,
   "metadata": {},
   "outputs": [
    {
     "name": "stdout",
     "output_type": "stream",
     "text": [
      "Downloading paysim1.zip to /home/jupyter/predictive_modeling\n",
      " 91%|████████████████████████████████████▏   | 161M/178M [00:02<00:00, 47.7MB/s]\n",
      "100%|████████████████████████████████████████| 178M/178M [00:02<00:00, 76.0MB/s]\n"
     ]
    }
   ],
   "source": [
    "!kaggle datasets download -d ealaxi/paysim1"
   ]
  },
  {
   "cell_type": "markdown",
   "metadata": {},
   "source": [
    "**Note:** If you get kaggle.json file not found error, then download **the json file** first from kaggle homepage www.kaggle.com -> Your Account -> **Create New API token** and copy that file to your **[user-home]/.kaggle** folder (eg. /home/jupyter/.kaggle) and rerun. "
   ]
  },
  {
   "cell_type": "code",
   "execution_count": 4,
   "metadata": {},
   "outputs": [
    {
     "name": "stdout",
     "output_type": "stream",
     "text": [
      "Archive:  paysim1.zip\n",
      "  inflating: PS_20174392719_1491204439457_log.csv  \n"
     ]
    }
   ],
   "source": [
    "!unzip paysim1.zip "
   ]
  },
  {
   "cell_type": "markdown",
   "metadata": {},
   "source": [
    "##  **2. Load data** "
   ]
  },
  {
   "cell_type": "code",
   "execution_count": 11,
   "metadata": {},
   "outputs": [
    {
     "name": "stdout",
     "output_type": "stream",
     "text": [
      "bonibon\n"
     ]
    }
   ],
   "source": [
    "# check the project id.\n",
    "PROJECT    = !gcloud config get-value project\n",
    "PROJECT_ID = PROJECT[0]\n",
    "print(PROJECT_ID)"
   ]
  },
  {
   "cell_type": "code",
   "execution_count": 72,
   "metadata": {},
   "outputs": [],
   "source": [
    "# create a bigquery dataset called \"fraud_demo\" using bq mk command in \"europe-west4\" region. \n",
    "!bq --location=europe-west4 mk --dataset fraud_demo"
   ]
  },
  {
   "cell_type": "markdown",
   "metadata": {},
   "source": [
    "**There are different options available to load data from local to BigQuery table as seen below:** </br>\n",
    "1. using bq command </br>\n",
    "2. using bigquery python client  "
   ]
  },
  {
   "cell_type": "code",
   "execution_count": 82,
   "metadata": {},
   "outputs": [
    {
     "name": "stdout",
     "output_type": "stream",
     "text": [
      "Upload complete.\n",
      "Waiting on bqjob_rb0fb7f24bc50949_0000017ac61767a2_1 ... (39s) Current status: DONE   \n"
     ]
    }
   ],
   "source": [
    "#load data using bq command:\n",
    "!bq load --autodetect --source_format=CSV --max_bad_records=100000 fraud_demo.fraud ./PS_*.csv"
   ]
  },
  {
   "cell_type": "code",
   "execution_count": 83,
   "metadata": {},
   "outputs": [],
   "source": [
    "# load data using bigquery python client:\n",
    "from google.cloud import bigquery\n",
    "\n",
    "# Construct a BigQuery client object.\n",
    "client = bigquery.Client()\n",
    "\n",
    "# table_id = \"your-project.your_dataset.your_table_name\"\n",
    "table_id= \"fraud_demo.fraud\"\n",
    "file_path = \"./PS_20174392719_1491204439457_log.csv\"\n",
    "\n",
    "job_config = bigquery.LoadJobConfig(\n",
    "    source_format=bigquery.SourceFormat.CSV, skip_leading_rows=1, autodetect=True\n",
    ")\n",
    "\n",
    "# [TODO] if you have not uploaded the data yet, then uncomment the following:\n",
    "#with open(file_path, \"rb\") as source_file:\n",
    "#    job = client.load_table_from_file(source_file, table_id, job_config=job_config)\n",
    "#job.result()  # Waits for the job to complete.\n",
    "\n",
    "#table = client.get_table(table_id)  # Make an API request.\n",
    "#print(\n",
    "#    \"Loaded {} rows and {} columns to {}\".format(\n",
    "#        table.num_rows, len(table.schema), table_id\n",
    "#    )\n",
    "#)"
   ]
  },
  {
   "cell_type": "markdown",
   "metadata": {},
   "source": [
    "**Load bigquery extension for calling cell magic to run a query and also display the result as a DataFrame**"
   ]
  },
  {
   "cell_type": "code",
   "execution_count": 21,
   "metadata": {},
   "outputs": [
    {
     "name": "stdout",
     "output_type": "stream",
     "text": [
      "The google.cloud.bigquery extension is already loaded. To reload it, use:\n",
      "  %reload_ext google.cloud.bigquery\n"
     ]
    }
   ],
   "source": [
    "%load_ext google.cloud.bigquery"
   ]
  },
  {
   "cell_type": "markdown",
   "metadata": {},
   "source": [
    "## **3. Explore Data** \n"
   ]
  },
  {
   "cell_type": "code",
   "execution_count": 84,
   "metadata": {},
   "outputs": [
    {
     "name": "stdout",
     "output_type": "stream",
     "text": [
      "Executing query with job ID: c52dd516-08ba-41a9-bfc2-2834edecb041\n",
      "Query executing: 32.01s\n",
      "Query complete after 32.62s\n"
     ]
    }
   ],
   "source": [
    "%%bigquery df --verbose \n",
    "SELECT * \n",
    "FROM\n",
    "fraud_demo.fraud"
   ]
  },
  {
   "cell_type": "code",
   "execution_count": 86,
   "metadata": {},
   "outputs": [
    {
     "data": {
      "text/html": [
       "<div>\n",
       "<style scoped>\n",
       "    .dataframe tbody tr th:only-of-type {\n",
       "        vertical-align: middle;\n",
       "    }\n",
       "\n",
       "    .dataframe tbody tr th {\n",
       "        vertical-align: top;\n",
       "    }\n",
       "\n",
       "    .dataframe thead th {\n",
       "        text-align: right;\n",
       "    }\n",
       "</style>\n",
       "<table border=\"1\" class=\"dataframe\">\n",
       "  <thead>\n",
       "    <tr style=\"text-align: right;\">\n",
       "      <th></th>\n",
       "      <th>0</th>\n",
       "      <th>1</th>\n",
       "      <th>2</th>\n",
       "      <th>3</th>\n",
       "      <th>4</th>\n",
       "    </tr>\n",
       "  </thead>\n",
       "  <tbody>\n",
       "    <tr>\n",
       "      <th>step</th>\n",
       "      <td>249</td>\n",
       "      <td>249</td>\n",
       "      <td>250</td>\n",
       "      <td>250</td>\n",
       "      <td>250</td>\n",
       "    </tr>\n",
       "    <tr>\n",
       "      <th>type</th>\n",
       "      <td>DEBIT</td>\n",
       "      <td>DEBIT</td>\n",
       "      <td>DEBIT</td>\n",
       "      <td>DEBIT</td>\n",
       "      <td>DEBIT</td>\n",
       "    </tr>\n",
       "    <tr>\n",
       "      <th>amount</th>\n",
       "      <td>6749.24</td>\n",
       "      <td>9318.08</td>\n",
       "      <td>310.59</td>\n",
       "      <td>6557.76</td>\n",
       "      <td>4824.92</td>\n",
       "    </tr>\n",
       "    <tr>\n",
       "      <th>nameOrig</th>\n",
       "      <td>C819774090</td>\n",
       "      <td>C504446086</td>\n",
       "      <td>C707138092</td>\n",
       "      <td>C957045762</td>\n",
       "      <td>C475290461</td>\n",
       "    </tr>\n",
       "    <tr>\n",
       "      <th>oldbalanceOrg</th>\n",
       "      <td>81514.2</td>\n",
       "      <td>33</td>\n",
       "      <td>2741.78</td>\n",
       "      <td>0</td>\n",
       "      <td>0</td>\n",
       "    </tr>\n",
       "    <tr>\n",
       "      <th>newbalanceOrig</th>\n",
       "      <td>74764.9</td>\n",
       "      <td>0</td>\n",
       "      <td>2431.19</td>\n",
       "      <td>0</td>\n",
       "      <td>0</td>\n",
       "    </tr>\n",
       "    <tr>\n",
       "      <th>nameDest</th>\n",
       "      <td>C1907170490</td>\n",
       "      <td>C1273144281</td>\n",
       "      <td>C1612311113</td>\n",
       "      <td>C1177243230</td>\n",
       "      <td>C349814050</td>\n",
       "    </tr>\n",
       "    <tr>\n",
       "      <th>oldbalanceDest</th>\n",
       "      <td>441101</td>\n",
       "      <td>17256</td>\n",
       "      <td>133220</td>\n",
       "      <td>9231.8</td>\n",
       "      <td>293689</td>\n",
       "    </tr>\n",
       "    <tr>\n",
       "      <th>newbalanceDest</th>\n",
       "      <td>447850</td>\n",
       "      <td>26574.1</td>\n",
       "      <td>133531</td>\n",
       "      <td>15789.5</td>\n",
       "      <td>298514</td>\n",
       "    </tr>\n",
       "    <tr>\n",
       "      <th>isFraud</th>\n",
       "      <td>0</td>\n",
       "      <td>0</td>\n",
       "      <td>0</td>\n",
       "      <td>0</td>\n",
       "      <td>0</td>\n",
       "    </tr>\n",
       "    <tr>\n",
       "      <th>isFlaggedFraud</th>\n",
       "      <td>0</td>\n",
       "      <td>0</td>\n",
       "      <td>0</td>\n",
       "      <td>0</td>\n",
       "      <td>0</td>\n",
       "    </tr>\n",
       "  </tbody>\n",
       "</table>\n",
       "</div>"
      ],
      "text/plain": [
       "                          0            1            2            3           4\n",
       "step                    249          249          250          250         250\n",
       "type                  DEBIT        DEBIT        DEBIT        DEBIT       DEBIT\n",
       "amount              6749.24      9318.08       310.59      6557.76     4824.92\n",
       "nameOrig         C819774090   C504446086   C707138092   C957045762  C475290461\n",
       "oldbalanceOrg       81514.2           33      2741.78            0           0\n",
       "newbalanceOrig      74764.9            0      2431.19            0           0\n",
       "nameDest        C1907170490  C1273144281  C1612311113  C1177243230  C349814050\n",
       "oldbalanceDest       441101        17256       133220       9231.8      293689\n",
       "newbalanceDest       447850      26574.1       133531      15789.5      298514\n",
       "isFraud                   0            0            0            0           0\n",
       "isFlaggedFraud            0            0            0            0           0"
      ]
     },
     "execution_count": 86,
     "metadata": {},
     "output_type": "execute_result"
    }
   ],
   "source": [
    "df.head().T"
   ]
  },
  {
   "cell_type": "code",
   "execution_count": 87,
   "metadata": {},
   "outputs": [
    {
     "data": {
      "text/plain": [
       "(6362620, 11)"
      ]
     },
     "execution_count": 87,
     "metadata": {},
     "output_type": "execute_result"
    }
   ],
   "source": [
    "df.shape"
   ]
  },
  {
   "cell_type": "code",
   "execution_count": 88,
   "metadata": {},
   "outputs": [
    {
     "data": {
      "text/plain": [
       "0    6354407\n",
       "1       8213\n",
       "Name: isFraud, dtype: int64"
      ]
     },
     "execution_count": 88,
     "metadata": {},
     "output_type": "execute_result"
    }
   ],
   "source": [
    "df[\"isFraud\"].value_counts()"
   ]
  },
  {
   "cell_type": "code",
   "execution_count": 89,
   "metadata": {},
   "outputs": [
    {
     "data": {
      "text/plain": [
       "0    6362604\n",
       "1         16\n",
       "Name: isFlaggedFraud, dtype: int64"
      ]
     },
     "execution_count": 89,
     "metadata": {},
     "output_type": "execute_result"
    }
   ],
   "source": [
    "df[\"isFlaggedFraud\"].value_counts()"
   ]
  },
  {
   "cell_type": "code",
   "execution_count": 90,
   "metadata": {},
   "outputs": [
    {
     "data": {
      "text/html": [
       "<div>\n",
       "<style scoped>\n",
       "    .dataframe tbody tr th:only-of-type {\n",
       "        vertical-align: middle;\n",
       "    }\n",
       "\n",
       "    .dataframe tbody tr th {\n",
       "        vertical-align: top;\n",
       "    }\n",
       "\n",
       "    .dataframe thead th {\n",
       "        text-align: right;\n",
       "    }\n",
       "</style>\n",
       "<table border=\"1\" class=\"dataframe\">\n",
       "  <thead>\n",
       "    <tr style=\"text-align: right;\">\n",
       "      <th></th>\n",
       "      <th>isFraud</th>\n",
       "      <th>type</th>\n",
       "      <th>cnt</th>\n",
       "    </tr>\n",
       "  </thead>\n",
       "  <tbody>\n",
       "    <tr>\n",
       "      <th>0</th>\n",
       "      <td>0</td>\n",
       "      <td>DEBIT</td>\n",
       "      <td>41432</td>\n",
       "    </tr>\n",
       "    <tr>\n",
       "      <th>1</th>\n",
       "      <td>0</td>\n",
       "      <td>CASH_IN</td>\n",
       "      <td>1399284</td>\n",
       "    </tr>\n",
       "    <tr>\n",
       "      <th>2</th>\n",
       "      <td>0</td>\n",
       "      <td>PAYMENT</td>\n",
       "      <td>2151495</td>\n",
       "    </tr>\n",
       "    <tr>\n",
       "      <th>3</th>\n",
       "      <td>0</td>\n",
       "      <td>CASH_OUT</td>\n",
       "      <td>2233384</td>\n",
       "    </tr>\n",
       "    <tr>\n",
       "      <th>4</th>\n",
       "      <td>1</td>\n",
       "      <td>CASH_OUT</td>\n",
       "      <td>4116</td>\n",
       "    </tr>\n",
       "    <tr>\n",
       "      <th>5</th>\n",
       "      <td>0</td>\n",
       "      <td>TRANSFER</td>\n",
       "      <td>528812</td>\n",
       "    </tr>\n",
       "    <tr>\n",
       "      <th>6</th>\n",
       "      <td>1</td>\n",
       "      <td>TRANSFER</td>\n",
       "      <td>4097</td>\n",
       "    </tr>\n",
       "  </tbody>\n",
       "</table>\n",
       "</div>"
      ],
      "text/plain": [
       "   isFraud      type      cnt\n",
       "0        0     DEBIT    41432\n",
       "1        0   CASH_IN  1399284\n",
       "2        0   PAYMENT  2151495\n",
       "3        0  CASH_OUT  2233384\n",
       "4        1  CASH_OUT     4116\n",
       "5        0  TRANSFER   528812\n",
       "6        1  TRANSFER     4097"
      ]
     },
     "execution_count": 90,
     "metadata": {},
     "output_type": "execute_result"
    }
   ],
   "source": [
    "%%bigquery \n",
    "SELECT isFraud, type , count(*) cnt FROM `fraud_demo.fraud` \n",
    "group by isFraud, type"
   ]
  },
  {
   "cell_type": "markdown",
   "metadata": {},
   "source": [
    "**Fraud is only flagged for CASH_OUT and TRANSFER type transactions.** </br> We can filter out the other transaction types while creating the modeling dataset in the data preparation step."
   ]
  },
  {
   "cell_type": "markdown",
   "metadata": {},
   "source": [
    "##  **4. Prepare data**  \n",
    "\n",
    "**In this step, we are creating new features, standardising the existing variables, creating an ID and filtering out the redundant transactions.** "
   ]
  },
  {
   "cell_type": "code",
   "execution_count": 130,
   "metadata": {},
   "outputs": [
    {
     "name": "stdout",
     "output_type": "stream",
     "text": [
      "Executing query with job ID: 54aaabb0-7db0-442b-840e-bf5cce5b524b\n",
      "Query executing: 16.30s\n",
      "Query complete after 16.89s\n"
     ]
    },
    {
     "data": {
      "text/html": [
       "<div>\n",
       "<style scoped>\n",
       "    .dataframe tbody tr th:only-of-type {\n",
       "        vertical-align: middle;\n",
       "    }\n",
       "\n",
       "    .dataframe tbody tr th {\n",
       "        vertical-align: top;\n",
       "    }\n",
       "\n",
       "    .dataframe thead th {\n",
       "        text-align: right;\n",
       "    }\n",
       "</style>\n",
       "<table border=\"1\" class=\"dataframe\">\n",
       "  <thead>\n",
       "    <tr style=\"text-align: right;\">\n",
       "      <th></th>\n",
       "    </tr>\n",
       "  </thead>\n",
       "  <tbody>\n",
       "  </tbody>\n",
       "</table>\n",
       "</div>"
      ],
      "text/plain": [
       "Empty DataFrame\n",
       "Columns: []\n",
       "Index: []"
      ]
     },
     "execution_count": 130,
     "metadata": {},
     "output_type": "execute_result"
    }
   ],
   "source": [
    "%%bigquery --verbose \n",
    "create or replace table fraud_demo.fraud_data as\n",
    "SELECT * EXCEPT (oldbalanceOrg, isFlaggedFraud), \n",
    "        oldbalanceOrg as oldbalanceOrig, # standardize the variable naming.\n",
    "        row_number() over(partition by nameOrig order by step desc) as origCnt,\n",
    "        row_number() over(partition by nameDest order by step desc) as destCnt,\n",
    "        if(oldbalanceOrg = 0.0, 1, 0) as origzeroFlg,\n",
    "        if(newbalanceDest = 0.0, 1, 0) as destzeroFlg,\n",
    "        round((newbalanceDest-oldbalanceDest-amount)) as amountDiff,\n",
    "        generate_uuid() as id,           # create a unique id for each transaction.\n",
    "FROM\n",
    "fraud_demo.fraud\n",
    "where type in (\"CASH_OUT\",\"TRANSFER\")\n",
    "      and (isFraud = 1 or (RAND()< 10/100))  # select 10% of the non-fraud cases "
   ]
  },
  {
   "cell_type": "markdown",
   "metadata": {},
   "source": [
    "**Create a test dataset by splitting the data as \"Train\" and \"Test\" and randomly selecting 20% of the observations for test.**"
   ]
  },
  {
   "cell_type": "code",
   "execution_count": 98,
   "metadata": {},
   "outputs": [
    {
     "name": "stdout",
     "output_type": "stream",
     "text": [
      "Executing query with job ID: 2513506d-7af2-47db-a24c-52a8e1cd2abc\n",
      "Query executing: 7.10s\n",
      "Query complete after 7.56s\n"
     ]
    }
   ],
   "source": [
    "%%bigquery df_model --verbose \n",
    "select *,\n",
    "    if(RAND()< 20/100, \"Test\", \"Train\") as part\n",
    "from fraud_demo.fraud_data"
   ]
  },
  {
   "cell_type": "markdown",
   "metadata": {},
   "source": [
    "**Run correlation analysis to see the interactions between variables.**"
   ]
  },
  {
   "cell_type": "code",
   "execution_count": 134,
   "metadata": {},
   "outputs": [
    {
     "data": {
      "text/html": [
       "<style  type=\"text/css\" >\n",
       "#T_5f717b34_e9b2_11eb_bb4f_42010a8a0008row0_col0,#T_5f717b34_e9b2_11eb_bb4f_42010a8a0008row1_col1,#T_5f717b34_e9b2_11eb_bb4f_42010a8a0008row2_col2,#T_5f717b34_e9b2_11eb_bb4f_42010a8a0008row3_col3,#T_5f717b34_e9b2_11eb_bb4f_42010a8a0008row4_col4,#T_5f717b34_e9b2_11eb_bb4f_42010a8a0008row5_col5,#T_5f717b34_e9b2_11eb_bb4f_42010a8a0008row6_col6,#T_5f717b34_e9b2_11eb_bb4f_42010a8a0008row7_col7,#T_5f717b34_e9b2_11eb_bb4f_42010a8a0008row8_col8,#T_5f717b34_e9b2_11eb_bb4f_42010a8a0008row9_col9,#T_5f717b34_e9b2_11eb_bb4f_42010a8a0008row10_col10{\n",
       "            background-color:  #007ad1;\n",
       "            color:  #f1f1f1;\n",
       "        }#T_5f717b34_e9b2_11eb_bb4f_42010a8a0008row0_col1,#T_5f717b34_e9b2_11eb_bb4f_42010a8a0008row6_col3,#T_5f717b34_e9b2_11eb_bb4f_42010a8a0008row6_col9,#T_5f717b34_e9b2_11eb_bb4f_42010a8a0008row7_col3{\n",
       "            background-color:  #bfd8ec;\n",
       "            color:  #000000;\n",
       "        }#T_5f717b34_e9b2_11eb_bb4f_42010a8a0008row0_col2{\n",
       "            background-color:  #66addf;\n",
       "            color:  #000000;\n",
       "        }#T_5f717b34_e9b2_11eb_bb4f_42010a8a0008row0_col3,#T_5f717b34_e9b2_11eb_bb4f_42010a8a0008row4_col2,#T_5f717b34_e9b2_11eb_bb4f_42010a8a0008row7_col2{\n",
       "            background-color:  #b1d1ea;\n",
       "            color:  #000000;\n",
       "        }#T_5f717b34_e9b2_11eb_bb4f_42010a8a0008row0_col4,#T_5f717b34_e9b2_11eb_bb4f_42010a8a0008row0_col6,#T_5f717b34_e9b2_11eb_bb4f_42010a8a0008row0_col7,#T_5f717b34_e9b2_11eb_bb4f_42010a8a0008row0_col8,#T_5f717b34_e9b2_11eb_bb4f_42010a8a0008row1_col6,#T_5f717b34_e9b2_11eb_bb4f_42010a8a0008row2_col6,#T_5f717b34_e9b2_11eb_bb4f_42010a8a0008row2_col10,#T_5f717b34_e9b2_11eb_bb4f_42010a8a0008row3_col6,#T_5f717b34_e9b2_11eb_bb4f_42010a8a0008row4_col6,#T_5f717b34_e9b2_11eb_bb4f_42010a8a0008row5_col6,#T_5f717b34_e9b2_11eb_bb4f_42010a8a0008row6_col1,#T_5f717b34_e9b2_11eb_bb4f_42010a8a0008row7_col1,#T_5f717b34_e9b2_11eb_bb4f_42010a8a0008row7_col6,#T_5f717b34_e9b2_11eb_bb4f_42010a8a0008row8_col1,#T_5f717b34_e9b2_11eb_bb4f_42010a8a0008row8_col6,#T_5f717b34_e9b2_11eb_bb4f_42010a8a0008row9_col4,#T_5f717b34_e9b2_11eb_bb4f_42010a8a0008row9_col5,#T_5f717b34_e9b2_11eb_bb4f_42010a8a0008row9_col6,#T_5f717b34_e9b2_11eb_bb4f_42010a8a0008row10_col0,#T_5f717b34_e9b2_11eb_bb4f_42010a8a0008row10_col2,#T_5f717b34_e9b2_11eb_bb4f_42010a8a0008row10_col3,#T_5f717b34_e9b2_11eb_bb4f_42010a8a0008row10_col6,#T_5f717b34_e9b2_11eb_bb4f_42010a8a0008row10_col9{\n",
       "            background-color:  #f0f1f3;\n",
       "            color:  #000000;\n",
       "        }#T_5f717b34_e9b2_11eb_bb4f_42010a8a0008row0_col5,#T_5f717b34_e9b2_11eb_bb4f_42010a8a0008row1_col7,#T_5f717b34_e9b2_11eb_bb4f_42010a8a0008row2_col4,#T_5f717b34_e9b2_11eb_bb4f_42010a8a0008row2_col7,#T_5f717b34_e9b2_11eb_bb4f_42010a8a0008row2_col8,#T_5f717b34_e9b2_11eb_bb4f_42010a8a0008row3_col7,#T_5f717b34_e9b2_11eb_bb4f_42010a8a0008row8_col0,#T_5f717b34_e9b2_11eb_bb4f_42010a8a0008row9_col7,#T_5f717b34_e9b2_11eb_bb4f_42010a8a0008row10_col1{\n",
       "            background-color:  #ebeef2;\n",
       "            color:  #000000;\n",
       "        }#T_5f717b34_e9b2_11eb_bb4f_42010a8a0008row0_col9{\n",
       "            background-color:  #499edb;\n",
       "            color:  #000000;\n",
       "        }#T_5f717b34_e9b2_11eb_bb4f_42010a8a0008row0_col10,#T_5f717b34_e9b2_11eb_bb4f_42010a8a0008row1_col8,#T_5f717b34_e9b2_11eb_bb4f_42010a8a0008row4_col0,#T_5f717b34_e9b2_11eb_bb4f_42010a8a0008row6_col8,#T_5f717b34_e9b2_11eb_bb4f_42010a8a0008row7_col0,#T_5f717b34_e9b2_11eb_bb4f_42010a8a0008row8_col9,#T_5f717b34_e9b2_11eb_bb4f_42010a8a0008row9_col1{\n",
       "            background-color:  #d3e2ef;\n",
       "            color:  #000000;\n",
       "        }#T_5f717b34_e9b2_11eb_bb4f_42010a8a0008row1_col0,#T_5f717b34_e9b2_11eb_bb4f_42010a8a0008row1_col3,#T_5f717b34_e9b2_11eb_bb4f_42010a8a0008row4_col10,#T_5f717b34_e9b2_11eb_bb4f_42010a8a0008row7_col10{\n",
       "            background-color:  #a2cae8;\n",
       "            color:  #000000;\n",
       "        }#T_5f717b34_e9b2_11eb_bb4f_42010a8a0008row1_col2{\n",
       "            background-color:  #62aadf;\n",
       "            color:  #000000;\n",
       "        }#T_5f717b34_e9b2_11eb_bb4f_42010a8a0008row1_col4,#T_5f717b34_e9b2_11eb_bb4f_42010a8a0008row1_col10,#T_5f717b34_e9b2_11eb_bb4f_42010a8a0008row5_col2,#T_5f717b34_e9b2_11eb_bb4f_42010a8a0008row6_col2,#T_5f717b34_e9b2_11eb_bb4f_42010a8a0008row6_col10,#T_5f717b34_e9b2_11eb_bb4f_42010a8a0008row9_col3{\n",
       "            background-color:  #abcfe9;\n",
       "            color:  #000000;\n",
       "        }#T_5f717b34_e9b2_11eb_bb4f_42010a8a0008row1_col5{\n",
       "            background-color:  #7fb9e3;\n",
       "            color:  #000000;\n",
       "        }#T_5f717b34_e9b2_11eb_bb4f_42010a8a0008row1_col9,#T_5f717b34_e9b2_11eb_bb4f_42010a8a0008row3_col9,#T_5f717b34_e9b2_11eb_bb4f_42010a8a0008row8_col10{\n",
       "            background-color:  #a6cce8;\n",
       "            color:  #000000;\n",
       "        }#T_5f717b34_e9b2_11eb_bb4f_42010a8a0008row2_col0{\n",
       "            background-color:  #75b4e1;\n",
       "            color:  #000000;\n",
       "        }#T_5f717b34_e9b2_11eb_bb4f_42010a8a0008row2_col1,#T_5f717b34_e9b2_11eb_bb4f_42010a8a0008row2_col9,#T_5f717b34_e9b2_11eb_bb4f_42010a8a0008row5_col1,#T_5f717b34_e9b2_11eb_bb4f_42010a8a0008row5_col10{\n",
       "            background-color:  #89bee4;\n",
       "            color:  #000000;\n",
       "        }#T_5f717b34_e9b2_11eb_bb4f_42010a8a0008row2_col3{\n",
       "            background-color:  #3192d8;\n",
       "            color:  #000000;\n",
       "        }#T_5f717b34_e9b2_11eb_bb4f_42010a8a0008row2_col5,#T_5f717b34_e9b2_11eb_bb4f_42010a8a0008row4_col7,#T_5f717b34_e9b2_11eb_bb4f_42010a8a0008row5_col7,#T_5f717b34_e9b2_11eb_bb4f_42010a8a0008row7_col4{\n",
       "            background-color:  #e2eaf1;\n",
       "            color:  #000000;\n",
       "        }#T_5f717b34_e9b2_11eb_bb4f_42010a8a0008row3_col0,#T_5f717b34_e9b2_11eb_bb4f_42010a8a0008row4_col1,#T_5f717b34_e9b2_11eb_bb4f_42010a8a0008row4_col8,#T_5f717b34_e9b2_11eb_bb4f_42010a8a0008row5_col8,#T_5f717b34_e9b2_11eb_bb4f_42010a8a0008row10_col5{\n",
       "            background-color:  #b5d4ea;\n",
       "            color:  #000000;\n",
       "        }#T_5f717b34_e9b2_11eb_bb4f_42010a8a0008row3_col1,#T_5f717b34_e9b2_11eb_bb4f_42010a8a0008row4_col9,#T_5f717b34_e9b2_11eb_bb4f_42010a8a0008row5_col9,#T_5f717b34_e9b2_11eb_bb4f_42010a8a0008row6_col0,#T_5f717b34_e9b2_11eb_bb4f_42010a8a0008row7_col8,#T_5f717b34_e9b2_11eb_bb4f_42010a8a0008row8_col5,#T_5f717b34_e9b2_11eb_bb4f_42010a8a0008row10_col8{\n",
       "            background-color:  #c9deed;\n",
       "            color:  #000000;\n",
       "        }#T_5f717b34_e9b2_11eb_bb4f_42010a8a0008row3_col2{\n",
       "            background-color:  #2c90d7;\n",
       "            color:  #000000;\n",
       "        }#T_5f717b34_e9b2_11eb_bb4f_42010a8a0008row3_col4,#T_5f717b34_e9b2_11eb_bb4f_42010a8a0008row3_col5,#T_5f717b34_e9b2_11eb_bb4f_42010a8a0008row6_col4,#T_5f717b34_e9b2_11eb_bb4f_42010a8a0008row6_col5,#T_5f717b34_e9b2_11eb_bb4f_42010a8a0008row6_col7,#T_5f717b34_e9b2_11eb_bb4f_42010a8a0008row9_col8{\n",
       "            background-color:  #e6ecf1;\n",
       "            color:  #000000;\n",
       "        }#T_5f717b34_e9b2_11eb_bb4f_42010a8a0008row3_col8,#T_5f717b34_e9b2_11eb_bb4f_42010a8a0008row7_col5,#T_5f717b34_e9b2_11eb_bb4f_42010a8a0008row8_col7,#T_5f717b34_e9b2_11eb_bb4f_42010a8a0008row9_col10,#T_5f717b34_e9b2_11eb_bb4f_42010a8a0008row10_col7{\n",
       "            background-color:  #dde7f0;\n",
       "            color:  #000000;\n",
       "        }#T_5f717b34_e9b2_11eb_bb4f_42010a8a0008row3_col10,#T_5f717b34_e9b2_11eb_bb4f_42010a8a0008row10_col4{\n",
       "            background-color:  #d7e5ef;\n",
       "            color:  #000000;\n",
       "        }#T_5f717b34_e9b2_11eb_bb4f_42010a8a0008row4_col3,#T_5f717b34_e9b2_11eb_bb4f_42010a8a0008row5_col3,#T_5f717b34_e9b2_11eb_bb4f_42010a8a0008row7_col9,#T_5f717b34_e9b2_11eb_bb4f_42010a8a0008row8_col2,#T_5f717b34_e9b2_11eb_bb4f_42010a8a0008row8_col4{\n",
       "            background-color:  #c4dbec;\n",
       "            color:  #000000;\n",
       "        }#T_5f717b34_e9b2_11eb_bb4f_42010a8a0008row4_col5,#T_5f717b34_e9b2_11eb_bb4f_42010a8a0008row5_col4{\n",
       "            background-color:  #057cd1;\n",
       "            color:  #f1f1f1;\n",
       "        }#T_5f717b34_e9b2_11eb_bb4f_42010a8a0008row5_col0,#T_5f717b34_e9b2_11eb_bb4f_42010a8a0008row8_col3{\n",
       "            background-color:  #cee0ee;\n",
       "            color:  #000000;\n",
       "        }#T_5f717b34_e9b2_11eb_bb4f_42010a8a0008row9_col0{\n",
       "            background-color:  #4ea0dc;\n",
       "            color:  #000000;\n",
       "        }#T_5f717b34_e9b2_11eb_bb4f_42010a8a0008row9_col2{\n",
       "            background-color:  #7ab6e2;\n",
       "            color:  #000000;\n",
       "        }</style><table id=\"T_5f717b34_e9b2_11eb_bb4f_42010a8a0008\" ><thead>    <tr>        <th class=\"blank level0\" ></th>        <th class=\"col_heading level0 col0\" >isFraud</th>        <th class=\"col_heading level0 col1\" >amount</th>        <th class=\"col_heading level0 col2\" >oldbalanceOrig</th>        <th class=\"col_heading level0 col3\" >newbalanceOrig</th>        <th class=\"col_heading level0 col4\" >oldbalanceDest</th>        <th class=\"col_heading level0 col5\" >newbalanceDest</th>        <th class=\"col_heading level0 col6\" >origCnt</th>        <th class=\"col_heading level0 col7\" >destCnt</th>        <th class=\"col_heading level0 col8\" >origzeroFlg</th>        <th class=\"col_heading level0 col9\" >destzeroFlg</th>        <th class=\"col_heading level0 col10\" >amountDiff</th>    </tr></thead><tbody>\n",
       "                <tr>\n",
       "                        <th id=\"T_5f717b34_e9b2_11eb_bb4f_42010a8a0008level0_row0\" class=\"row_heading level0 row0\" >isFraud</th>\n",
       "                        <td id=\"T_5f717b34_e9b2_11eb_bb4f_42010a8a0008row0_col0\" class=\"data row0 col0\" >1.000000</td>\n",
       "                        <td id=\"T_5f717b34_e9b2_11eb_bb4f_42010a8a0008row0_col1\" class=\"data row0 col1\" >0.206106</td>\n",
       "                        <td id=\"T_5f717b34_e9b2_11eb_bb4f_42010a8a0008row0_col2\" class=\"data row0 col2\" >0.405933</td>\n",
       "                        <td id=\"T_5f717b34_e9b2_11eb_bb4f_42010a8a0008row0_col3\" class=\"data row0 col3\" >0.088876</td>\n",
       "                        <td id=\"T_5f717b34_e9b2_11eb_bb4f_42010a8a0008row0_col4\" class=\"data row0 col4\" >-0.045302</td>\n",
       "                        <td id=\"T_5f717b34_e9b2_11eb_bb4f_42010a8a0008row0_col5\" class=\"data row0 col5\" >-0.026689</td>\n",
       "                        <td id=\"T_5f717b34_e9b2_11eb_bb4f_42010a8a0008row0_col6\" class=\"data row0 col6\" >-0.001577</td>\n",
       "                        <td id=\"T_5f717b34_e9b2_11eb_bb4f_42010a8a0008row0_col7\" class=\"data row0 col7\" >-0.043044</td>\n",
       "                        <td id=\"T_5f717b34_e9b2_11eb_bb4f_42010a8a0008row0_col8\" class=\"data row0 col8\" >-0.157207</td>\n",
       "                        <td id=\"T_5f717b34_e9b2_11eb_bb4f_42010a8a0008row0_col9\" class=\"data row0 col9\" >0.608083</td>\n",
       "                        <td id=\"T_5f717b34_e9b2_11eb_bb4f_42010a8a0008row0_col10\" class=\"data row0 col10\" >-0.202635</td>\n",
       "            </tr>\n",
       "            <tr>\n",
       "                        <th id=\"T_5f717b34_e9b2_11eb_bb4f_42010a8a0008level0_row1\" class=\"row_heading level0 row1\" >amount</th>\n",
       "                        <td id=\"T_5f717b34_e9b2_11eb_bb4f_42010a8a0008row1_col0\" class=\"data row1 col0\" >0.206106</td>\n",
       "                        <td id=\"T_5f717b34_e9b2_11eb_bb4f_42010a8a0008row1_col1\" class=\"data row1 col1\" >1.000000</td>\n",
       "                        <td id=\"T_5f717b34_e9b2_11eb_bb4f_42010a8a0008row1_col2\" class=\"data row1 col2\" >0.416351</td>\n",
       "                        <td id=\"T_5f717b34_e9b2_11eb_bb4f_42010a8a0008row1_col3\" class=\"data row1 col3\" >0.153087</td>\n",
       "                        <td id=\"T_5f717b34_e9b2_11eb_bb4f_42010a8a0008row1_col4\" class=\"data row1 col4\" >0.241787</td>\n",
       "                        <td id=\"T_5f717b34_e9b2_11eb_bb4f_42010a8a0008row1_col5\" class=\"data row1 col5\" >0.427925</td>\n",
       "                        <td id=\"T_5f717b34_e9b2_11eb_bb4f_42010a8a0008row1_col6\" class=\"data row1 col6\" >0.000054</td>\n",
       "                        <td id=\"T_5f717b34_e9b2_11eb_bb4f_42010a8a0008row1_col7\" class=\"data row1 col7\" >-0.008308</td>\n",
       "                        <td id=\"T_5f717b34_e9b2_11eb_bb4f_42010a8a0008row1_col8\" class=\"data row1 col8\" >-0.013165</td>\n",
       "                        <td id=\"T_5f717b34_e9b2_11eb_bb4f_42010a8a0008row1_col9\" class=\"data row1 col9\" >0.119977</td>\n",
       "                        <td id=\"T_5f717b34_e9b2_11eb_bb4f_42010a8a0008row1_col10\" class=\"data row1 col10\" >0.019248</td>\n",
       "            </tr>\n",
       "            <tr>\n",
       "                        <th id=\"T_5f717b34_e9b2_11eb_bb4f_42010a8a0008level0_row2\" class=\"row_heading level0 row2\" >oldbalanceOrig</th>\n",
       "                        <td id=\"T_5f717b34_e9b2_11eb_bb4f_42010a8a0008row2_col0\" class=\"data row2 col0\" >0.405933</td>\n",
       "                        <td id=\"T_5f717b34_e9b2_11eb_bb4f_42010a8a0008row2_col1\" class=\"data row2 col1\" >0.416351</td>\n",
       "                        <td id=\"T_5f717b34_e9b2_11eb_bb4f_42010a8a0008row2_col2\" class=\"data row2 col2\" >1.000000</td>\n",
       "                        <td id=\"T_5f717b34_e9b2_11eb_bb4f_42010a8a0008row2_col3\" class=\"data row2 col3\" >0.736656</td>\n",
       "                        <td id=\"T_5f717b34_e9b2_11eb_bb4f_42010a8a0008row2_col4\" class=\"data row2 col4\" >-0.024971</td>\n",
       "                        <td id=\"T_5f717b34_e9b2_11eb_bb4f_42010a8a0008row2_col5\" class=\"data row2 col5\" >0.008620</td>\n",
       "                        <td id=\"T_5f717b34_e9b2_11eb_bb4f_42010a8a0008row2_col6\" class=\"data row2 col6\" >-0.000654</td>\n",
       "                        <td id=\"T_5f717b34_e9b2_11eb_bb4f_42010a8a0008row2_col7\" class=\"data row2 col7\" >-0.017105</td>\n",
       "                        <td id=\"T_5f717b34_e9b2_11eb_bb4f_42010a8a0008row2_col8\" class=\"data row2 col8\" >-0.123253</td>\n",
       "                        <td id=\"T_5f717b34_e9b2_11eb_bb4f_42010a8a0008row2_col9\" class=\"data row2 col9\" >0.278953</td>\n",
       "                        <td id=\"T_5f717b34_e9b2_11eb_bb4f_42010a8a0008row2_col10\" class=\"data row2 col10\" >-0.396038</td>\n",
       "            </tr>\n",
       "            <tr>\n",
       "                        <th id=\"T_5f717b34_e9b2_11eb_bb4f_42010a8a0008level0_row3\" class=\"row_heading level0 row3\" >newbalanceOrig</th>\n",
       "                        <td id=\"T_5f717b34_e9b2_11eb_bb4f_42010a8a0008row3_col0\" class=\"data row3 col0\" >0.088876</td>\n",
       "                        <td id=\"T_5f717b34_e9b2_11eb_bb4f_42010a8a0008row3_col1\" class=\"data row3 col1\" >0.153087</td>\n",
       "                        <td id=\"T_5f717b34_e9b2_11eb_bb4f_42010a8a0008row3_col2\" class=\"data row3 col2\" >0.736656</td>\n",
       "                        <td id=\"T_5f717b34_e9b2_11eb_bb4f_42010a8a0008row3_col3\" class=\"data row3 col3\" >1.000000</td>\n",
       "                        <td id=\"T_5f717b34_e9b2_11eb_bb4f_42010a8a0008row3_col4\" class=\"data row3 col4\" >-0.010700</td>\n",
       "                        <td id=\"T_5f717b34_e9b2_11eb_bb4f_42010a8a0008row3_col5\" class=\"data row3 col5\" >-0.012882</td>\n",
       "                        <td id=\"T_5f717b34_e9b2_11eb_bb4f_42010a8a0008row3_col6\" class=\"data row3 col6\" >-0.000423</td>\n",
       "                        <td id=\"T_5f717b34_e9b2_11eb_bb4f_42010a8a0008row3_col7\" class=\"data row3 col7\" >-0.002244</td>\n",
       "                        <td id=\"T_5f717b34_e9b2_11eb_bb4f_42010a8a0008row3_col8\" class=\"data row3 col8\" >-0.055855</td>\n",
       "                        <td id=\"T_5f717b34_e9b2_11eb_bb4f_42010a8a0008row3_col9\" class=\"data row3 col9\" >0.118066</td>\n",
       "                        <td id=\"T_5f717b34_e9b2_11eb_bb4f_42010a8a0008row3_col10\" class=\"data row3 col10\" >-0.253585</td>\n",
       "            </tr>\n",
       "            <tr>\n",
       "                        <th id=\"T_5f717b34_e9b2_11eb_bb4f_42010a8a0008level0_row4\" class=\"row_heading level0 row4\" >oldbalanceDest</th>\n",
       "                        <td id=\"T_5f717b34_e9b2_11eb_bb4f_42010a8a0008row4_col0\" class=\"data row4 col0\" >-0.045302</td>\n",
       "                        <td id=\"T_5f717b34_e9b2_11eb_bb4f_42010a8a0008row4_col1\" class=\"data row4 col1\" >0.241787</td>\n",
       "                        <td id=\"T_5f717b34_e9b2_11eb_bb4f_42010a8a0008row4_col2\" class=\"data row4 col2\" >-0.024971</td>\n",
       "                        <td id=\"T_5f717b34_e9b2_11eb_bb4f_42010a8a0008row4_col3\" class=\"data row4 col3\" >-0.010700</td>\n",
       "                        <td id=\"T_5f717b34_e9b2_11eb_bb4f_42010a8a0008row4_col4\" class=\"data row4 col4\" >1.000000</td>\n",
       "                        <td id=\"T_5f717b34_e9b2_11eb_bb4f_42010a8a0008row4_col5\" class=\"data row4 col5\" >0.970541</td>\n",
       "                        <td id=\"T_5f717b34_e9b2_11eb_bb4f_42010a8a0008row4_col6\" class=\"data row4 col6\" >0.002370</td>\n",
       "                        <td id=\"T_5f717b34_e9b2_11eb_bb4f_42010a8a0008row4_col7\" class=\"data row4 col7\" >0.021453</td>\n",
       "                        <td id=\"T_5f717b34_e9b2_11eb_bb4f_42010a8a0008row4_col8\" class=\"data row4 col8\" >0.140415</td>\n",
       "                        <td id=\"T_5f717b34_e9b2_11eb_bb4f_42010a8a0008row4_col9\" class=\"data row4 col9\" >-0.053360</td>\n",
       "                        <td id=\"T_5f717b34_e9b2_11eb_bb4f_42010a8a0008row4_col10\" class=\"data row4 col10\" >0.062163</td>\n",
       "            </tr>\n",
       "            <tr>\n",
       "                        <th id=\"T_5f717b34_e9b2_11eb_bb4f_42010a8a0008level0_row5\" class=\"row_heading level0 row5\" >newbalanceDest</th>\n",
       "                        <td id=\"T_5f717b34_e9b2_11eb_bb4f_42010a8a0008row5_col0\" class=\"data row5 col0\" >-0.026689</td>\n",
       "                        <td id=\"T_5f717b34_e9b2_11eb_bb4f_42010a8a0008row5_col1\" class=\"data row5 col1\" >0.427925</td>\n",
       "                        <td id=\"T_5f717b34_e9b2_11eb_bb4f_42010a8a0008row5_col2\" class=\"data row5 col2\" >0.008620</td>\n",
       "                        <td id=\"T_5f717b34_e9b2_11eb_bb4f_42010a8a0008row5_col3\" class=\"data row5 col3\" >-0.012882</td>\n",
       "                        <td id=\"T_5f717b34_e9b2_11eb_bb4f_42010a8a0008row5_col4\" class=\"data row5 col4\" >0.970541</td>\n",
       "                        <td id=\"T_5f717b34_e9b2_11eb_bb4f_42010a8a0008row5_col5\" class=\"data row5 col5\" >1.000000</td>\n",
       "                        <td id=\"T_5f717b34_e9b2_11eb_bb4f_42010a8a0008row5_col6\" class=\"data row5 col6\" >0.002276</td>\n",
       "                        <td id=\"T_5f717b34_e9b2_11eb_bb4f_42010a8a0008row5_col7\" class=\"data row5 col7\" >0.025169</td>\n",
       "                        <td id=\"T_5f717b34_e9b2_11eb_bb4f_42010a8a0008row5_col8\" class=\"data row5 col8\" >0.130229</td>\n",
       "                        <td id=\"T_5f717b34_e9b2_11eb_bb4f_42010a8a0008row5_col9\" class=\"data row5 col9\" >-0.059861</td>\n",
       "                        <td id=\"T_5f717b34_e9b2_11eb_bb4f_42010a8a0008row5_col10\" class=\"data row5 col10\" >0.196510</td>\n",
       "            </tr>\n",
       "            <tr>\n",
       "                        <th id=\"T_5f717b34_e9b2_11eb_bb4f_42010a8a0008level0_row6\" class=\"row_heading level0 row6\" >origCnt</th>\n",
       "                        <td id=\"T_5f717b34_e9b2_11eb_bb4f_42010a8a0008row6_col0\" class=\"data row6 col0\" >-0.001577</td>\n",
       "                        <td id=\"T_5f717b34_e9b2_11eb_bb4f_42010a8a0008row6_col1\" class=\"data row6 col1\" >0.000054</td>\n",
       "                        <td id=\"T_5f717b34_e9b2_11eb_bb4f_42010a8a0008row6_col2\" class=\"data row6 col2\" >-0.000654</td>\n",
       "                        <td id=\"T_5f717b34_e9b2_11eb_bb4f_42010a8a0008row6_col3\" class=\"data row6 col3\" >-0.000423</td>\n",
       "                        <td id=\"T_5f717b34_e9b2_11eb_bb4f_42010a8a0008row6_col4\" class=\"data row6 col4\" >0.002370</td>\n",
       "                        <td id=\"T_5f717b34_e9b2_11eb_bb4f_42010a8a0008row6_col5\" class=\"data row6 col5\" >0.002276</td>\n",
       "                        <td id=\"T_5f717b34_e9b2_11eb_bb4f_42010a8a0008row6_col6\" class=\"data row6 col6\" >1.000000</td>\n",
       "                        <td id=\"T_5f717b34_e9b2_11eb_bb4f_42010a8a0008row6_col7\" class=\"data row6 col7\" >0.004735</td>\n",
       "                        <td id=\"T_5f717b34_e9b2_11eb_bb4f_42010a8a0008row6_col8\" class=\"data row6 col8\" >0.003166</td>\n",
       "                        <td id=\"T_5f717b34_e9b2_11eb_bb4f_42010a8a0008row6_col9\" class=\"data row6 col9\" >-0.001266</td>\n",
       "                        <td id=\"T_5f717b34_e9b2_11eb_bb4f_42010a8a0008row6_col10\" class=\"data row6 col10\" >0.000749</td>\n",
       "            </tr>\n",
       "            <tr>\n",
       "                        <th id=\"T_5f717b34_e9b2_11eb_bb4f_42010a8a0008level0_row7\" class=\"row_heading level0 row7\" >destCnt</th>\n",
       "                        <td id=\"T_5f717b34_e9b2_11eb_bb4f_42010a8a0008row7_col0\" class=\"data row7 col0\" >-0.043044</td>\n",
       "                        <td id=\"T_5f717b34_e9b2_11eb_bb4f_42010a8a0008row7_col1\" class=\"data row7 col1\" >-0.008308</td>\n",
       "                        <td id=\"T_5f717b34_e9b2_11eb_bb4f_42010a8a0008row7_col2\" class=\"data row7 col2\" >-0.017105</td>\n",
       "                        <td id=\"T_5f717b34_e9b2_11eb_bb4f_42010a8a0008row7_col3\" class=\"data row7 col3\" >-0.002244</td>\n",
       "                        <td id=\"T_5f717b34_e9b2_11eb_bb4f_42010a8a0008row7_col4\" class=\"data row7 col4\" >0.021453</td>\n",
       "                        <td id=\"T_5f717b34_e9b2_11eb_bb4f_42010a8a0008row7_col5\" class=\"data row7 col5\" >0.025169</td>\n",
       "                        <td id=\"T_5f717b34_e9b2_11eb_bb4f_42010a8a0008row7_col6\" class=\"data row7 col6\" >0.004735</td>\n",
       "                        <td id=\"T_5f717b34_e9b2_11eb_bb4f_42010a8a0008row7_col7\" class=\"data row7 col7\" >1.000000</td>\n",
       "                        <td id=\"T_5f717b34_e9b2_11eb_bb4f_42010a8a0008row7_col8\" class=\"data row7 col8\" >0.045083</td>\n",
       "                        <td id=\"T_5f717b34_e9b2_11eb_bb4f_42010a8a0008row7_col9\" class=\"data row7 col9\" >-0.021720</td>\n",
       "                        <td id=\"T_5f717b34_e9b2_11eb_bb4f_42010a8a0008row7_col10\" class=\"data row7 col10\" >0.053670</td>\n",
       "            </tr>\n",
       "            <tr>\n",
       "                        <th id=\"T_5f717b34_e9b2_11eb_bb4f_42010a8a0008level0_row8\" class=\"row_heading level0 row8\" >origzeroFlg</th>\n",
       "                        <td id=\"T_5f717b34_e9b2_11eb_bb4f_42010a8a0008row8_col0\" class=\"data row8 col0\" >-0.157207</td>\n",
       "                        <td id=\"T_5f717b34_e9b2_11eb_bb4f_42010a8a0008row8_col1\" class=\"data row8 col1\" >-0.013165</td>\n",
       "                        <td id=\"T_5f717b34_e9b2_11eb_bb4f_42010a8a0008row8_col2\" class=\"data row8 col2\" >-0.123253</td>\n",
       "                        <td id=\"T_5f717b34_e9b2_11eb_bb4f_42010a8a0008row8_col3\" class=\"data row8 col3\" >-0.055855</td>\n",
       "                        <td id=\"T_5f717b34_e9b2_11eb_bb4f_42010a8a0008row8_col4\" class=\"data row8 col4\" >0.140415</td>\n",
       "                        <td id=\"T_5f717b34_e9b2_11eb_bb4f_42010a8a0008row8_col5\" class=\"data row8 col5\" >0.130229</td>\n",
       "                        <td id=\"T_5f717b34_e9b2_11eb_bb4f_42010a8a0008row8_col6\" class=\"data row8 col6\" >0.003166</td>\n",
       "                        <td id=\"T_5f717b34_e9b2_11eb_bb4f_42010a8a0008row8_col7\" class=\"data row8 col7\" >0.045083</td>\n",
       "                        <td id=\"T_5f717b34_e9b2_11eb_bb4f_42010a8a0008row8_col8\" class=\"data row8 col8\" >1.000000</td>\n",
       "                        <td id=\"T_5f717b34_e9b2_11eb_bb4f_42010a8a0008row8_col9\" class=\"data row8 col9\" >-0.109764</td>\n",
       "                        <td id=\"T_5f717b34_e9b2_11eb_bb4f_42010a8a0008row8_col10\" class=\"data row8 col10\" >0.035181</td>\n",
       "            </tr>\n",
       "            <tr>\n",
       "                        <th id=\"T_5f717b34_e9b2_11eb_bb4f_42010a8a0008level0_row9\" class=\"row_heading level0 row9\" >destzeroFlg</th>\n",
       "                        <td id=\"T_5f717b34_e9b2_11eb_bb4f_42010a8a0008row9_col0\" class=\"data row9 col0\" >0.608083</td>\n",
       "                        <td id=\"T_5f717b34_e9b2_11eb_bb4f_42010a8a0008row9_col1\" class=\"data row9 col1\" >0.119977</td>\n",
       "                        <td id=\"T_5f717b34_e9b2_11eb_bb4f_42010a8a0008row9_col2\" class=\"data row9 col2\" >0.278953</td>\n",
       "                        <td id=\"T_5f717b34_e9b2_11eb_bb4f_42010a8a0008row9_col3\" class=\"data row9 col3\" >0.118066</td>\n",
       "                        <td id=\"T_5f717b34_e9b2_11eb_bb4f_42010a8a0008row9_col4\" class=\"data row9 col4\" >-0.053360</td>\n",
       "                        <td id=\"T_5f717b34_e9b2_11eb_bb4f_42010a8a0008row9_col5\" class=\"data row9 col5\" >-0.059861</td>\n",
       "                        <td id=\"T_5f717b34_e9b2_11eb_bb4f_42010a8a0008row9_col6\" class=\"data row9 col6\" >-0.001266</td>\n",
       "                        <td id=\"T_5f717b34_e9b2_11eb_bb4f_42010a8a0008row9_col7\" class=\"data row9 col7\" >-0.021720</td>\n",
       "                        <td id=\"T_5f717b34_e9b2_11eb_bb4f_42010a8a0008row9_col8\" class=\"data row9 col8\" >-0.109764</td>\n",
       "                        <td id=\"T_5f717b34_e9b2_11eb_bb4f_42010a8a0008row9_col9\" class=\"data row9 col9\" >1.000000</td>\n",
       "                        <td id=\"T_5f717b34_e9b2_11eb_bb4f_42010a8a0008row9_col10\" class=\"data row9 col10\" >-0.262933</td>\n",
       "            </tr>\n",
       "            <tr>\n",
       "                        <th id=\"T_5f717b34_e9b2_11eb_bb4f_42010a8a0008level0_row10\" class=\"row_heading level0 row10\" >amountDiff</th>\n",
       "                        <td id=\"T_5f717b34_e9b2_11eb_bb4f_42010a8a0008row10_col0\" class=\"data row10 col0\" >-0.202635</td>\n",
       "                        <td id=\"T_5f717b34_e9b2_11eb_bb4f_42010a8a0008row10_col1\" class=\"data row10 col1\" >0.019248</td>\n",
       "                        <td id=\"T_5f717b34_e9b2_11eb_bb4f_42010a8a0008row10_col2\" class=\"data row10 col2\" >-0.396038</td>\n",
       "                        <td id=\"T_5f717b34_e9b2_11eb_bb4f_42010a8a0008row10_col3\" class=\"data row10 col3\" >-0.253585</td>\n",
       "                        <td id=\"T_5f717b34_e9b2_11eb_bb4f_42010a8a0008row10_col4\" class=\"data row10 col4\" >0.062163</td>\n",
       "                        <td id=\"T_5f717b34_e9b2_11eb_bb4f_42010a8a0008row10_col5\" class=\"data row10 col5\" >0.196510</td>\n",
       "                        <td id=\"T_5f717b34_e9b2_11eb_bb4f_42010a8a0008row10_col6\" class=\"data row10 col6\" >0.000749</td>\n",
       "                        <td id=\"T_5f717b34_e9b2_11eb_bb4f_42010a8a0008row10_col7\" class=\"data row10 col7\" >0.053670</td>\n",
       "                        <td id=\"T_5f717b34_e9b2_11eb_bb4f_42010a8a0008row10_col8\" class=\"data row10 col8\" >0.035181</td>\n",
       "                        <td id=\"T_5f717b34_e9b2_11eb_bb4f_42010a8a0008row10_col9\" class=\"data row10 col9\" >-0.262933</td>\n",
       "                        <td id=\"T_5f717b34_e9b2_11eb_bb4f_42010a8a0008row10_col10\" class=\"data row10 col10\" >1.000000</td>\n",
       "            </tr>\n",
       "    </tbody></table>"
      ],
      "text/plain": [
       "<pandas.io.formats.style.Styler at 0x7f1c3d400190>"
      ]
     },
     "execution_count": 134,
     "metadata": {},
     "output_type": "execute_result"
    }
   ],
   "source": [
    "# correlation analysis.\n",
    "from matplotlib.colors import ListedColormap\n",
    "my_cmap = ListedColormap(sns.light_palette((250, 100, 50), input=\"husl\", n_colors=50).as_hex())\n",
    "table = df_model[df_model['part']==\"Train\"][['isFraud', 'amount', 'oldbalanceOrig', 'newbalanceOrig', 'oldbalanceDest', 'newbalanceDest',\n",
    "           'origCnt', 'destCnt', 'origzeroFlg', 'destzeroFlg', 'amountDiff']].corr(method='pearson')\n",
    "table.style.background_gradient(cmap=my_cmap, axis = 0)"
   ]
  },
  {
   "cell_type": "code",
   "execution_count": 175,
   "metadata": {},
   "outputs": [
    {
     "name": "stdout",
     "output_type": "stream",
     "text": [
      "Train size (227194, 17)\n",
      "Test size  (56211, 17)\n"
     ]
    }
   ],
   "source": [
    "print(\"Train size\", df_model[df_model['part']==\"Train\"].shape)\n",
    "print(\"Test size \", df_model[df_model['part']==\"Test\"].shape)"
   ]
  },
  {
   "cell_type": "markdown",
   "metadata": {},
   "source": [
    "**Write the dataframes to BigQuery as train and test tables.**"
   ]
  },
  {
   "cell_type": "code",
   "execution_count": 111,
   "metadata": {},
   "outputs": [
    {
     "name": "stderr",
     "output_type": "stream",
     "text": [
      "1it [00:38, 38.43s/it]\n",
      "1it [00:13, 13.49s/it]\n"
     ]
    }
   ],
   "source": [
    "# write dataframes to bigquery tables using BQ client.\n",
    "df_model[df_model['part']==\"Train\"].to_gbq('fraud_demo.fraud_train', project_id= str(PROJECT_ID), if_exists='replace')\n",
    "df_model[df_model['part']==\"Test\"].to_gbq('fraud_demo.fraud_test', project_id= str(PROJECT_ID), if_exists='replace')"
   ]
  },
  {
   "cell_type": "markdown",
   "metadata": {},
   "source": [
    "##  **5. Build unsupervised model using k-means in BigQuery ML**  "
   ]
  },
  {
   "cell_type": "markdown",
   "metadata": {},
   "source": [
    "#### See the parameters for kmeans model in BigQuery ML: </br> https://cloud.google.com/bigquery-ml/docs/reference/standard-sql/bigqueryml-syntax-create-kmeans#create_model_statement"
   ]
  },
  {
   "cell_type": "code",
   "execution_count": 153,
   "metadata": {},
   "outputs": [
    {
     "name": "stdout",
     "output_type": "stream",
     "text": [
      "Executing query with job ID: 274bad5f-5251-48a3-9913-641cee25dfdb\n",
      "Query executing: 81.25s\n",
      "Query complete after 81.66s\n"
     ]
    },
    {
     "data": {
      "text/html": [
       "<div>\n",
       "<style scoped>\n",
       "    .dataframe tbody tr th:only-of-type {\n",
       "        vertical-align: middle;\n",
       "    }\n",
       "\n",
       "    .dataframe tbody tr th {\n",
       "        vertical-align: top;\n",
       "    }\n",
       "\n",
       "    .dataframe thead th {\n",
       "        text-align: right;\n",
       "    }\n",
       "</style>\n",
       "<table border=\"1\" class=\"dataframe\">\n",
       "  <thead>\n",
       "    <tr style=\"text-align: right;\">\n",
       "      <th></th>\n",
       "      <th>davies_bouldin_index</th>\n",
       "      <th>mean_squared_distance</th>\n",
       "    </tr>\n",
       "  </thead>\n",
       "  <tbody>\n",
       "    <tr>\n",
       "      <th>0</th>\n",
       "      <td>0.759019</td>\n",
       "      <td>6.141867</td>\n",
       "    </tr>\n",
       "  </tbody>\n",
       "</table>\n",
       "</div>"
      ],
      "text/plain": [
       "   davies_bouldin_index  mean_squared_distance\n",
       "0              0.759019               6.141867"
      ]
     },
     "execution_count": 153,
     "metadata": {},
     "output_type": "execute_result"
    }
   ],
   "source": [
    "%%bigquery --verbose\n",
    "#create unsupervised model for fraud detection;\n",
    "CREATE OR REPLACE MODEL\n",
    "  fraud_demo.model_unsupervised_k7 OPTIONS(model_type='kmeans', kmeans_init_method = \"kmeans++\", num_clusters=7, standardize_features=true) AS \n",
    "    SELECT * EXCEPT (id, isFraud, nameOrig, nameDest, part)\n",
    "    FROM\n",
    "    `fraud_demo.fraud_train`;\n",
    "\n",
    "select *\n",
    "from ML.EVALUATE(MODEL `fraud_demo.model_unsupervised_k7`);"
   ]
  },
  {
   "attachments": {
    "image.png": {
     "image/png": "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"
    }
   },
   "cell_type": "markdown",
   "metadata": {},
   "source": [
    "![image.png](attachment:image.png)"
   ]
  },
  {
   "cell_type": "markdown",
   "metadata": {},
   "source": [
    "**Check the number of fraud flags within in cluster in the test data.**"
   ]
  },
  {
   "cell_type": "code",
   "execution_count": 154,
   "metadata": {},
   "outputs": [
    {
     "name": "stdout",
     "output_type": "stream",
     "text": [
      "Executing query with job ID: f756a3db-ad76-4fee-867d-b4735aa5e300\n",
      "Query executing: 1.94s\n",
      "Query complete after 2.31s\n"
     ]
    },
    {
     "data": {
      "text/html": [
       "<div>\n",
       "<style scoped>\n",
       "    .dataframe tbody tr th:only-of-type {\n",
       "        vertical-align: middle;\n",
       "    }\n",
       "\n",
       "    .dataframe tbody tr th {\n",
       "        vertical-align: top;\n",
       "    }\n",
       "\n",
       "    .dataframe thead th {\n",
       "        text-align: right;\n",
       "    }\n",
       "</style>\n",
       "<table border=\"1\" class=\"dataframe\">\n",
       "  <thead>\n",
       "    <tr style=\"text-align: right;\">\n",
       "      <th></th>\n",
       "      <th>centroid_id</th>\n",
       "      <th>sum</th>\n",
       "      <th>cnt</th>\n",
       "    </tr>\n",
       "  </thead>\n",
       "  <tbody>\n",
       "    <tr>\n",
       "      <th>0</th>\n",
       "      <td>1</td>\n",
       "      <td>1396</td>\n",
       "      <td>55832</td>\n",
       "    </tr>\n",
       "    <tr>\n",
       "      <th>1</th>\n",
       "      <td>2</td>\n",
       "      <td>0</td>\n",
       "      <td>6</td>\n",
       "    </tr>\n",
       "    <tr>\n",
       "      <th>2</th>\n",
       "      <td>3</td>\n",
       "      <td>5</td>\n",
       "      <td>6</td>\n",
       "    </tr>\n",
       "    <tr>\n",
       "      <th>3</th>\n",
       "      <td>4</td>\n",
       "      <td>0</td>\n",
       "      <td>58</td>\n",
       "    </tr>\n",
       "    <tr>\n",
       "      <th>4</th>\n",
       "      <td>5</td>\n",
       "      <td>246</td>\n",
       "      <td>268</td>\n",
       "    </tr>\n",
       "    <tr>\n",
       "      <th>5</th>\n",
       "      <td>6</td>\n",
       "      <td>7</td>\n",
       "      <td>7</td>\n",
       "    </tr>\n",
       "    <tr>\n",
       "      <th>6</th>\n",
       "      <td>7</td>\n",
       "      <td>0</td>\n",
       "      <td>34</td>\n",
       "    </tr>\n",
       "  </tbody>\n",
       "</table>\n",
       "</div>"
      ],
      "text/plain": [
       "   centroid_id   sum    cnt\n",
       "0            1  1396  55832\n",
       "1            2     0      6\n",
       "2            3     5      6\n",
       "3            4     0     58\n",
       "4            5   246    268\n",
       "5            6     7      7\n",
       "6            7     0     34"
      ]
     },
     "execution_count": 154,
     "metadata": {},
     "output_type": "execute_result"
    }
   ],
   "source": [
    "%%bigquery --verbose\n",
    "#test the model on a test data;\n",
    "SELECT\n",
    "  centroid_id, sum(isFraud) as sum,  count(*) cnt\n",
    "FROM\n",
    "  ML.PREDICT(MODEL `fraud_demo.model_unsupervised_k7`,\n",
    "    (\n",
    "    SELECT *\n",
    "    FROM  `fraud_demo.fraud_test`))\n",
    "group by centroid_id\n",
    "order by centroid_id;"
   ]
  },
  {
   "cell_type": "markdown",
   "metadata": {},
   "source": [
    "**Detect anomalies within each cluster in BQML.** </br>\n",
    "    https://cloud.google.com/blog/products/data-analytics/how-to-use-bigquery-ml-for-anomaly-detection"
   ]
  },
  {
   "cell_type": "code",
   "execution_count": 156,
   "metadata": {},
   "outputs": [
    {
     "name": "stdout",
     "output_type": "stream",
     "text": [
      "Executing query with job ID: 41a880f2-1e9b-4ccc-b351-b532c6c4424c\n",
      "Query executing: 1.01s\n",
      "Query complete after 1.48s\n"
     ]
    },
    {
     "data": {
      "text/html": [
       "<div>\n",
       "<style scoped>\n",
       "    .dataframe tbody tr th:only-of-type {\n",
       "        vertical-align: middle;\n",
       "    }\n",
       "\n",
       "    .dataframe tbody tr th {\n",
       "        vertical-align: top;\n",
       "    }\n",
       "\n",
       "    .dataframe thead th {\n",
       "        text-align: right;\n",
       "    }\n",
       "</style>\n",
       "<table border=\"1\" class=\"dataframe\">\n",
       "  <thead>\n",
       "    <tr style=\"text-align: right;\">\n",
       "      <th></th>\n",
       "      <th>centroid_id</th>\n",
       "      <th>sum</th>\n",
       "      <th>cnt</th>\n",
       "    </tr>\n",
       "  </thead>\n",
       "  <tbody>\n",
       "    <tr>\n",
       "      <th>0</th>\n",
       "      <td>1</td>\n",
       "      <td>487</td>\n",
       "      <td>50150</td>\n",
       "    </tr>\n",
       "    <tr>\n",
       "      <th>1</th>\n",
       "      <td>2</td>\n",
       "      <td>0</td>\n",
       "      <td>6</td>\n",
       "    </tr>\n",
       "    <tr>\n",
       "      <th>2</th>\n",
       "      <td>3</td>\n",
       "      <td>6</td>\n",
       "      <td>7</td>\n",
       "    </tr>\n",
       "    <tr>\n",
       "      <th>3</th>\n",
       "      <td>4</td>\n",
       "      <td>8</td>\n",
       "      <td>1584</td>\n",
       "    </tr>\n",
       "    <tr>\n",
       "      <th>4</th>\n",
       "      <td>5</td>\n",
       "      <td>1145</td>\n",
       "      <td>4407</td>\n",
       "    </tr>\n",
       "    <tr>\n",
       "      <th>5</th>\n",
       "      <td>6</td>\n",
       "      <td>8</td>\n",
       "      <td>8</td>\n",
       "    </tr>\n",
       "    <tr>\n",
       "      <th>6</th>\n",
       "      <td>7</td>\n",
       "      <td>0</td>\n",
       "      <td>49</td>\n",
       "    </tr>\n",
       "  </tbody>\n",
       "</table>\n",
       "</div>"
      ],
      "text/plain": [
       "   centroid_id   sum    cnt\n",
       "0            1   487  50150\n",
       "1            2     0      6\n",
       "2            3     6      7\n",
       "3            4     8   1584\n",
       "4            5  1145   4407\n",
       "5            6     8      8\n",
       "6            7     0     49"
      ]
     },
     "execution_count": 156,
     "metadata": {},
     "output_type": "execute_result"
    }
   ],
   "source": [
    "%%bigquery --verbose\n",
    "#test the model on a test data;\n",
    "SELECT\n",
    "  centroid_id, sum(isfraud) as sum,  count(*) cnt\n",
    "FROM\n",
    "  ML.DETECT_ANOMALIES(MODEL `fraud_demo.model_unsupervised_k7`, struct(0.2 as contamination),\n",
    "    (\n",
    "    SELECT *\n",
    "    FROM  `fraud_demo.fraud_test`))\n",
    "group by centroid_id\n",
    "order by centroid_id"
   ]
  },
  {
   "cell_type": "markdown",
   "metadata": {},
   "source": [
    "**Centroid ID: 4 is the segment that we would pay attention for fraudulent activities in the production data.**"
   ]
  },
  {
   "cell_type": "markdown",
   "metadata": {},
   "source": [
    "##  **6. Build supervised model using in BigQuery ML using XGBoost and Regression** f\n",
    "https://cloud.google.com/bigquery-ml/docs/reference/standard-sql/bigqueryml-syntax-create"
   ]
  },
  {
   "cell_type": "code",
   "execution_count": 147,
   "metadata": {},
   "outputs": [
    {
     "name": "stdout",
     "output_type": "stream",
     "text": [
      "Executing query with job ID: 96cca1a6-0b42-480f-a338-b092f766408a\n",
      "Query executing: 144.47s\n",
      "Query complete after 145.23s\n"
     ]
    },
    {
     "data": {
      "text/html": [
       "<div>\n",
       "<style scoped>\n",
       "    .dataframe tbody tr th:only-of-type {\n",
       "        vertical-align: middle;\n",
       "    }\n",
       "\n",
       "    .dataframe tbody tr th {\n",
       "        vertical-align: top;\n",
       "    }\n",
       "\n",
       "    .dataframe thead th {\n",
       "        text-align: right;\n",
       "    }\n",
       "</style>\n",
       "<table border=\"1\" class=\"dataframe\">\n",
       "  <thead>\n",
       "    <tr style=\"text-align: right;\">\n",
       "      <th></th>\n",
       "    </tr>\n",
       "  </thead>\n",
       "  <tbody>\n",
       "  </tbody>\n",
       "</table>\n",
       "</div>"
      ],
      "text/plain": [
       "Empty DataFrame\n",
       "Columns: []\n",
       "Index: []"
      ]
     },
     "execution_count": 147,
     "metadata": {},
     "output_type": "execute_result"
    }
   ],
   "source": [
    "%%bigquery --verbose\n",
    "CREATE OR REPLACE MODEL `fraud_demo.model_fraud_reg`\n",
    " OPTIONS(MODEL_TYPE='LOGISTIC_REG',INPUT_LABEL_COLS = [\"isFraud\"], SUBSAMPLE=0.8) \n",
    "AS SELECT\n",
    "  * EXCEPT (id, nameOrig, nameDest, part, step)\n",
    "FROM `fraud_demo.fraud_train`"
   ]
  },
  {
   "cell_type": "code",
   "execution_count": 148,
   "metadata": {},
   "outputs": [
    {
     "data": {
      "text/html": [
       "<div>\n",
       "<style scoped>\n",
       "    .dataframe tbody tr th:only-of-type {\n",
       "        vertical-align: middle;\n",
       "    }\n",
       "\n",
       "    .dataframe tbody tr th {\n",
       "        vertical-align: top;\n",
       "    }\n",
       "\n",
       "    .dataframe thead th {\n",
       "        text-align: right;\n",
       "    }\n",
       "</style>\n",
       "<table border=\"1\" class=\"dataframe\">\n",
       "  <thead>\n",
       "    <tr style=\"text-align: right;\">\n",
       "      <th></th>\n",
       "      <th>precision</th>\n",
       "      <th>recall</th>\n",
       "      <th>accuracy</th>\n",
       "      <th>f1_score</th>\n",
       "      <th>log_loss</th>\n",
       "      <th>roc_auc</th>\n",
       "    </tr>\n",
       "  </thead>\n",
       "  <tbody>\n",
       "    <tr>\n",
       "      <th>0</th>\n",
       "      <td>0.879581</td>\n",
       "      <td>0.57732</td>\n",
       "      <td>0.985522</td>\n",
       "      <td>0.697095</td>\n",
       "      <td>0.060833</td>\n",
       "      <td>0.950393</td>\n",
       "    </tr>\n",
       "  </tbody>\n",
       "</table>\n",
       "</div>"
      ],
      "text/plain": [
       "   precision   recall  accuracy  f1_score  log_loss   roc_auc\n",
       "0   0.879581  0.57732  0.985522  0.697095  0.060833  0.950393"
      ]
     },
     "execution_count": 148,
     "metadata": {},
     "output_type": "execute_result"
    }
   ],
   "source": [
    "%%bigquery\n",
    "SELECT * \n",
    "FROM ML.EVALUATE(MODEL fraud_demo.model_fraud_reg)"
   ]
  },
  {
   "cell_type": "code",
   "execution_count": 151,
   "metadata": {},
   "outputs": [
    {
     "name": "stdout",
     "output_type": "stream",
     "text": [
      "Executing query with job ID: 335fa7dc-ccdc-4ed6-ac90-d3521f34e435\n",
      "Query executing: 427.82s\n",
      "Query complete after 428.24s\n"
     ]
    },
    {
     "data": {
      "text/html": [
       "<div>\n",
       "<style scoped>\n",
       "    .dataframe tbody tr th:only-of-type {\n",
       "        vertical-align: middle;\n",
       "    }\n",
       "\n",
       "    .dataframe tbody tr th {\n",
       "        vertical-align: top;\n",
       "    }\n",
       "\n",
       "    .dataframe thead th {\n",
       "        text-align: right;\n",
       "    }\n",
       "</style>\n",
       "<table border=\"1\" class=\"dataframe\">\n",
       "  <thead>\n",
       "    <tr style=\"text-align: right;\">\n",
       "      <th></th>\n",
       "    </tr>\n",
       "  </thead>\n",
       "  <tbody>\n",
       "  </tbody>\n",
       "</table>\n",
       "</div>"
      ],
      "text/plain": [
       "Empty DataFrame\n",
       "Columns: []\n",
       "Index: []"
      ]
     },
     "execution_count": 151,
     "metadata": {},
     "output_type": "execute_result"
    }
   ],
   "source": [
    "%%bigquery --verbose\n",
    "CREATE OR REPLACE MODEL `fraud_demo.model_fraud_btree`\n",
    " OPTIONS(MODEL_TYPE='BOOSTED_TREE_CLASSIFIER',INPUT_LABEL_COLS = [\"isFraud\"], SUBSAMPLE=0.8) \n",
    "AS SELECT\n",
    "  * EXCEPT (id, nameOrig, nameDest, part, step)\n",
    "FROM `fraud_demo.fraud_train`"
   ]
  },
  {
   "cell_type": "code",
   "execution_count": 150,
   "metadata": {},
   "outputs": [
    {
     "data": {
      "text/html": [
       "<div>\n",
       "<style scoped>\n",
       "    .dataframe tbody tr th:only-of-type {\n",
       "        vertical-align: middle;\n",
       "    }\n",
       "\n",
       "    .dataframe tbody tr th {\n",
       "        vertical-align: top;\n",
       "    }\n",
       "\n",
       "    .dataframe thead th {\n",
       "        text-align: right;\n",
       "    }\n",
       "</style>\n",
       "<table border=\"1\" class=\"dataframe\">\n",
       "  <thead>\n",
       "    <tr style=\"text-align: right;\">\n",
       "      <th></th>\n",
       "      <th>precision</th>\n",
       "      <th>recall</th>\n",
       "      <th>accuracy</th>\n",
       "      <th>f1_score</th>\n",
       "      <th>log_loss</th>\n",
       "      <th>roc_auc</th>\n",
       "    </tr>\n",
       "  </thead>\n",
       "  <tbody>\n",
       "    <tr>\n",
       "      <th>0</th>\n",
       "      <td>0.973485</td>\n",
       "      <td>0.914591</td>\n",
       "      <td>0.996876</td>\n",
       "      <td>0.943119</td>\n",
       "      <td>0.011003</td>\n",
       "      <td>0.999975</td>\n",
       "    </tr>\n",
       "  </tbody>\n",
       "</table>\n",
       "</div>"
      ],
      "text/plain": [
       "   precision    recall  accuracy  f1_score  log_loss   roc_auc\n",
       "0   0.973485  0.914591  0.996876  0.943119  0.011003  0.999975"
      ]
     },
     "execution_count": 150,
     "metadata": {},
     "output_type": "execute_result"
    }
   ],
   "source": [
    "%%bigquery\n",
    "SELECT * \n",
    "FROM ML.EVALUATE(MODEL fraud_demo.model_fraud_btree)"
   ]
  },
  {
   "cell_type": "markdown",
   "metadata": {},
   "source": [
    "**For now, skip this step and use Vertex Tables GUI to create an AutoML model on fraud_train data.**"
   ]
  },
  {
   "cell_type": "code",
   "execution_count": 180,
   "metadata": {},
   "outputs": [],
   "source": [
    "#%%bigquery --verbose\n",
    "#CREATE OR REPLACE MODEL `fraud_demo.model_fraud_automl`\n",
    "#OPTIONS(MODEL_TYPE = 'AUTOML_CLASSIFIER' ,\n",
    "#        BUDGET_HOURS = 1.0,\n",
    "#        INPUT_LABEL_COLS = [\"isFraud\"])\n",
    "#as select\n",
    "#  * EXCEPT (id, nameOrig, nameDest, part, step)\n",
    "#FROM `fraud_demo.fraud_train`"
   ]
  },
  {
   "cell_type": "markdown",
   "metadata": {},
   "source": [
    "##  **7. Deploy Model and Get Prediction Scores** "
   ]
  },
  {
   "cell_type": "code",
   "execution_count": 161,
   "metadata": {},
   "outputs": [
    {
     "name": "stdout",
     "output_type": "stream",
     "text": [
      "Executing query with job ID: 21fcc308-9e05-4094-95bc-126b52924ac7\n",
      "Query executing: 2.62s\n",
      "Query complete after 2.90s\n"
     ]
    }
   ],
   "source": [
    "%%bigquery predictions_fraud --verbose\n",
    "# Predict the likelihood on new data.\n",
    "SELECT ID, isFraud, p.prob as score\n",
    "FROM\n",
    "  ML.PREDICT(MODEL `fraud_demo.model_fraud_btree`, \n",
    "  (SELECT * FROM\n",
    "  `fraud_demo.fraud_test` \n",
    "  )\n",
    ")\n",
    ", unnest(predicted_isFraud_probs) as p\n",
    "where p.label = 1\n",
    "order by p.prob desc"
   ]
  },
  {
   "cell_type": "code",
   "execution_count": 171,
   "metadata": {},
   "outputs": [
    {
     "data": {
      "text/plain": [
       "0    54557\n",
       "1     1654\n",
       "Name: isFraud, dtype: int64"
      ]
     },
     "execution_count": 171,
     "metadata": {},
     "output_type": "execute_result"
    }
   ],
   "source": [
    "predictions_fraud[\"isFraud\"].value_counts()"
   ]
  },
  {
   "cell_type": "code",
   "execution_count": 186,
   "metadata": {},
   "outputs": [
    {
     "data": {
      "text/plain": [
       "1    1490\n",
       "0      81\n",
       "Name: isFraud, dtype: int64"
      ]
     },
     "execution_count": 186,
     "metadata": {},
     "output_type": "execute_result"
    }
   ],
   "source": [
    "predictions_fraud[predictions_fraud.score >.4]['isFraud'].value_counts()"
   ]
  },
  {
   "cell_type": "code",
   "execution_count": 164,
   "metadata": {},
   "outputs": [
    {
     "name": "stderr",
     "output_type": "stream",
     "text": [
      "1it [00:07,  7.87s/it]\n"
     ]
    }
   ],
   "source": [
    "predictions_fraud.to_gbq('fraud_demo.predictions_fraud', project_id= str(PROJECT_ID), if_exists='replace')"
   ]
  },
  {
   "cell_type": "markdown",
   "metadata": {},
   "source": [
    "**End of file.** "
   ]
  }
 ],
 "metadata": {
  "environment": {
   "name": "tf2-gpu.2-1.m58",
   "type": "gcloud",
   "uri": "gcr.io/deeplearning-platform-release/tf2-gpu.2-1:m58"
  },
  "kernelspec": {
   "display_name": "Python 3",
   "language": "python",
   "name": "python3"
  },
  "language_info": {
   "codemirror_mode": {
    "name": "ipython",
    "version": 3
   },
   "file_extension": ".py",
   "mimetype": "text/x-python",
   "name": "python",
   "nbconvert_exporter": "python",
   "pygments_lexer": "ipython3",
   "version": "3.7.8"
  }
 },
 "nbformat": 4,
 "nbformat_minor": 4
}
